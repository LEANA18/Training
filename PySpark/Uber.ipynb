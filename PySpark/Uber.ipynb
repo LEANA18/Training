{
 "cells": [
  {
   "cell_type": "code",
   "execution_count": 4,
   "id": "fe6b0bd5-dc08-495e-b6c6-ee18bd4499cd",
   "metadata": {},
   "outputs": [],
   "source": [
    "from pyspark.sql import SparkSession\n",
    "\n",
    "spark=(SparkSession.builder.appName(\"Spark UI Analysis\").master(\"local[*]\").getOrCreate())\n"
   ]
  },
  {
   "cell_type": "code",
   "execution_count": 5,
   "id": "ab5f99d1-a409-4d6b-9308-2c5f68c3197e",
   "metadata": {},
   "outputs": [
    {
     "name": "stdout",
     "output_type": "stream",
     "text": [
      "+---------------+---------------+--------+----------+---+---------+-----------------+-----------+---------------+-----+-----------+-------------+---------------+-----+------+--------+--------+-----+-------------+---------+---------+---------+----------+----------+-----------+--------------+---------------+---------+----------+------------+--------+----------+---------+\n",
      "|     Start_time|       End_time|    Name|    Mobile|Age|Pin-Codes|           Source|Vaccine_cus|    Destination|Miles|Est_Costing|Ride_category|        Purpose| temp|clouds|pressure|humidity| wind|accquire_vehi|free_vehi|Lattitute|Longitude|locationID|rating_cus|Riders_Name|Riders_contact|Trusted_Contact|Rating_RI|Vaccine_Ri|Payment_mode|Discount|Final_cost|   Status|\n",
      "+---------------+---------------+--------+----------+---+---------+-----------------+-----------+---------------+-----+-----------+-------------+---------------+-----+------+--------+--------+-----+-------------+---------+---------+---------+----------+----------+-----------+--------------+---------------+---------+----------+------------+--------+----------+---------+\n",
      "| 1/1/2016 21:11| 1/1/2016 21:17|  Almire|9298608912| 21|   318886|      Fort Pierce|        YES|    Fort Pierce|  5.1|      49.98|         Bike| Meal/Entertain|42.42|   1.0| 1012.14|    0.77|11.25|           26|       17|   40.769| -73.9549|       141|         3|    Johanna|    9181026109|            YES|      3.6|       YES|        Gpay|      0%|     49.98|Cancelled|\n",
      "| 1/2/2016 20:25| 1/2/2016 20:38| Frazier|8621617385| 27|   318886|      Fort Pierce|        YES|    Fort Pierce|  4.8|      47.04|         Bike|Errand/Supplies|42.43|   1.0| 1012.15|    0.76|11.32|           45|       24|  40.7267| -74.0345|        65|         4|    Charlot|    9855403124|            YES|      4.5|       YES|      Phonpe|      0%|     47.04|  Arrived|\n",
      "| 1/5/2016 17:31| 1/5/2016 17:45|  Editha|9954004976| 20|   318886|      Fort Pierce|        YES|    Fort Pierce|  4.7|      46.06|         Bike|        Meeting| 42.5|   1.0| 1012.15|    0.76|11.07|          731|       36|  40.7316| -73.9873|       100|         5|      Cissy|    9328907059|            YES|      4.8|       YES|       Paytm|      0%|     46.06| Assigned|\n",
      "| 1/6/2016 14:42| 1/6/2016 15:49|   Deeyn|9885727873| 34|   318886|      Fort Pierce|        YES|West Palm Beach| 63.7|     624.26|         Bike| Customer Visit|42.11|   1.0| 1012.13|    0.77|11.09|           10|        9|  40.7588| -73.9776|        80|         2|     Luelle|    9774674359|             NO|      4.9|       YES| Uber wallet|     10%|   561.834| Assigned|\n",
      "| 1/6/2016 17:15| 1/6/2016 17:19|  Correy|9661756645| 28|   475241|  West Palm Beach|         NO|West Palm Beach|  4.3|      42.14|         Bike| Meal/Entertain|43.13|   1.0| 1012.14|    0.75|11.49|          814|       62|  40.7594| -73.9722|        90|         3|      Myrle|    9425892986|             NO|      5.0|        NO|        cash|      0%|     42.14| Assigned|\n",
      "| 1/6/2016 17:30| 1/6/2016 17:35|   Bryan|8721880095| 50|   475241|  West Palm Beach|        YES|     Palm Beach|  7.1|      69.58|         Bike|        Meeting|42.34|   1.0| 1012.15|    0.77|11.49|          220|       46|  40.7383| -74.0403|       228|         4|     Duncan|    9611855033|            YES|      3.0|       YES| Uber wallet|     10%|    62.622|  Arrived|\n",
      "| 1/7/2016 13:27| 1/7/2016 13:33|  Crissy|8579258893| 68|   265814|             Cary|        YES|           Cary|  0.8|       7.84|         Bike|        Meeting|42.36|   1.0| 1012.15|    0.77|11.46|           36|       28|  40.7223| -73.9887|         7|         5|     Carine|    9700998304|            YES|      3.6|       YES| Uber wallet|     10%|     7.056| Assigned|\n",
      "| 1/10/2016 8:05| 1/10/2016 8:25|  Kendre|8900099665| 31|   265814|             Cary|        YES|    Morrisville|  8.3|      81.34|         Bike|        Meeting|42.21|   1.0| 1012.16|    0.77|11.37|         1137|      106|   40.762|  -73.979|        74|         5|   Collette|    9212537431|            YES|      3.9|       YES| Uber wallet|     10%|    73.206| Assigned|\n",
      "|1/10/2016 12:17|1/10/2016 12:44|   Aymer|9918333307| 47|   386077|          Jamaica|        YES|       New York| 16.5|      161.7|         Bike| Customer Visit|42.07|   1.0| 1012.12|    0.78|11.28|          236|      103|  40.7524|  -73.996|       249|         5|     Killie|    9426616674|             NO|      4.2|       YES| Uber wallet|     10%|    145.53|  Arrived|\n",
      "|1/10/2016 15:08|1/10/2016 15:51|  Gabbey|9050095157| 59|   125733|         New York|         NO|         Queens| 10.8|     105.84|         Bike|        Meeting|43.05|   1.0| 1012.12|    0.75|11.58|           47|       29|  40.7575| -73.9846|        22|         4|    Ellette|    8949025277|             NO|      4.8|        NO|        cash|      0%|    105.84| Assigned|\n",
      "|1/10/2016 18:18|1/10/2016 18:53|   Cammi|7884885405| 19|   646882|         Elmhurst|        YES|       New York|  7.5|       73.5|         Bike|        Meeting|42.09|   1.0| 1012.13|    0.78|11.41|         1792|      119|  40.7256| -73.9869|       263|         4|      Amara|    9247349792|            YES|      3.6|       YES|        Gpay|      0%|      73.5| Assigned|\n",
      "|1/10/2016 19:12|1/10/2016 19:32| Carlyle|8333928562| 22|   625132|          Midtown|        YES|    East Harlem|  6.2|      60.76|         Bike|        Meeting|43.28|  0.81|  990.81|    0.71|  8.3|           23|       13|  40.7591| -73.9684|        61|         3|     Ashlee|    9332965757|            YES|      4.5|       YES|        Gpay|      0%|     60.76|  Arrived|\n",
      "| 1/11/2016 8:55| 1/11/2016 9:21|Zedekiah|8283676665| 74|   210314|      East Harlem|        YES|          NoMad|  6.4|      62.72|         Bike| Temporary Site|43.27|   0.8|   990.8|    0.71|  8.3|           83|       20|  40.7271| -73.9803|       229|         3|        Kim|    9267421665|            YES|      4.8|       YES|      Phonpe|      0%|     62.72| Assigned|\n",
      "|1/11/2016 11:56|1/11/2016 12:03|   Sioux|8362408033| 75|   484320|Flatiron District|        YES|        Midtown|  1.6|      15.68|         Bike|Errand/Supplies|43.35|  0.82|  990.82|    0.71| 8.24|         1846|       86|  40.6463| -73.7896|       164|         5|      Jacky|    9472034451|             NO|      4.9|       YES|       Paytm|      0%|     15.68|  Arrived|\n",
      "|1/11/2016 13:32|1/11/2016 13:46| Mathian|9734846586| 62|   625132|          Midtown|         NO|   Midtown East|  1.7|      16.66|         Bike| Meal/Entertain|43.07|  0.82|  990.82|    0.72| 8.28|           57|       39|  40.7564| -73.9167|       237|         5|     Mikkel|    9117822322|             NO|      5.0|        NO| Uber wallet|     10%|    14.994|  Arrived|\n",
      "|1/11/2016 14:30|1/11/2016 14:43|  Maggie|7951534876| 36|   491563|     Midtown East|        YES|        Midtown|  1.9|      18.62|         Bike| Meal/Entertain|43.35|   0.8|   990.8|    0.71| 8.35|            9|        8|  40.7666| -73.9531|       142|         4|       Geri|    9738692778|            YES|      3.0|       YES|        cash|      0%|     18.62|  Arrived|\n",
      "|1/12/2016 12:33|1/12/2016 12:49| Maurice|7932768286| 40|   625132|          Midtown|        YES|  Hudson Square|  1.9|      18.62|         Bike| Meal/Entertain| 43.2|   0.8|  990.79|    0.71| 8.31|            4|        2|   40.758| -73.9761|       188|         5|  Stanislas|    9564616492|            YES|      3.6|       YES| Uber wallet|     10%|    16.758| Assigned|\n",
      "|1/12/2016 12:53|1/12/2016 13:09|    Timi|9323566102| 35|   509117|    Hudson Square|        YES|Lower Manhattan|  4.0|       39.2|         Bike| Meal/Entertain|43.24|   0.8|  990.79|    0.71| 8.32|           81|       37|  40.7238| -73.9821|       237|         5|       Yvon|    9985025265|            YES|      3.9|       YES| Uber wallet|     10%|     35.28|  Arrived|\n",
      "|1/12/2016 14:42|1/12/2016 14:56|   Janey|8572258661| 55|   223672|  Lower Manhattan|        YES|  Hudson Square|  1.8|      17.64|         Bike|Errand/Supplies|41.95|  0.81|  991.63|    0.73|10.87|         1765|      579|  40.7531| -74.0039|       224|         5|      Jaine|    9593730071|             NO|      4.2|       YES| Uber wallet|     10%|    15.876| Assigned|\n",
      "|1/12/2016 15:13|1/12/2016 15:28| Huntlee|9974250697| 32|   318886|      Fort Pierce|         NO| Hell's Kitchen|  2.4|      23.52|         Bike| Customer Visit|43.05|  0.81|  990.82|    0.72| 8.31|          766|       65|  40.7389| -74.0393|       238|         5|       Abbi|    9652057745|             NO|      4.8|        NO| Uber wallet|     10%|    21.168| Assigned|\n",
      "+---------------+---------------+--------+----------+---+---------+-----------------+-----------+---------------+-----+-----------+-------------+---------------+-----+------+--------+--------+-----+-------------+---------+---------+---------+----------+----------+-----------+--------------+---------------+---------+----------+------------+--------+----------+---------+\n",
      "only showing top 20 rows\n",
      "\n"
     ]
    }
   ],
   "source": [
    "admin_data=spark.read.csv(\"\\\\Users\\\\Administrator\\\\Downloads\\\\Uber\\\\Uber\\\\Admin_data.csv\",header=True,inferSchema=True)\n",
    "admin_data.show()"
   ]
  },
  {
   "cell_type": "code",
   "execution_count": 6,
   "id": "e837a64e-7dc6-4344-9f09-a7d75894f3ce",
   "metadata": {},
   "outputs": [
    {
     "name": "stdout",
     "output_type": "stream",
     "text": [
      "+---------------+---------------+-----------+-------------------+-------------+-------+-----------------+---------------+-------------+---------+------------+---------------+--------------+----------------------+---------+----------------+------------+--------------+----------------+--------+-----------+\n",
      "|Pickup DateTime|  Drop DateTime|Driver Name|Driver Phone Number|Trip Distance|Trip ID|  Pickup Location|  Drop Location|Trip Duration|Trip Fare|Vehicle Type|   Trip Purpose|Passenger Name|Passenger Phone Number|Scheduled|Passenger Rating|Driver Rated|Payment Method|Payment Discount|Net Fare|Trip Status|\n",
      "+---------------+---------------+-----------+-------------------+-------------+-------+-----------------+---------------+-------------+---------+------------+---------------+--------------+----------------------+---------+----------------+------------+--------------+----------------+--------+-----------+\n",
      "| 1/1/2016 21:11| 1/1/2016 21:17|     Almire|         9298608912|           21| 318886|      Fort Pierce|    Fort Pierce|          5.1|    49.98|        Bike| Meal/Entertain|       Johanna|            9181026109|      YES|             3.6|         YES|          Gpay|              0%|   49.98|  Cancelled|\n",
      "| 1/2/2016 20:25| 1/2/2016 20:38|    Frazier|         8621617385|           27| 318886|      Fort Pierce|    Fort Pierce|          4.8|    47.04|        Bike|Errand/Supplies|       Charlot|            9855403124|      YES|             4.5|         YES|        Phonpe|              0%|   47.04|    Arrived|\n",
      "| 1/5/2016 17:31| 1/5/2016 17:45|     Editha|         9954004976|           20| 318886|      Fort Pierce|    Fort Pierce|          4.7|    46.06|        Bike|        Meeting|         Cissy|            9328907059|      YES|             4.8|         YES|         Paytm|              0%|   46.06|   Assigned|\n",
      "| 1/6/2016 14:42| 1/6/2016 15:49|      Deeyn|         9885727873|           34| 318886|      Fort Pierce|West Palm Beach|         63.7|   624.26|        Bike| Customer Visit|        Luelle|            9774674359|       NO|             4.9|         YES|   Uber wallet|             10%| 561.834|   Assigned|\n",
      "| 1/6/2016 17:15| 1/6/2016 17:19|     Correy|         9661756645|           28| 475241|  West Palm Beach|West Palm Beach|          4.3|    42.14|        Bike| Meal/Entertain|         Myrle|            9425892986|       NO|             5.0|          NO|          cash|              0%|   42.14|   Assigned|\n",
      "| 1/6/2016 17:30| 1/6/2016 17:35|      Bryan|         8721880095|           50| 475241|  West Palm Beach|     Palm Beach|          7.1|    69.58|        Bike|        Meeting|        Duncan|            9611855033|      YES|             3.0|         YES|   Uber wallet|             10%|  76.538|    Arrived|\n",
      "| 1/7/2016 13:27| 1/7/2016 13:33|     Crissy|         8579258893|           68| 265814|             Cary|           Cary|          0.8|     7.84|        Bike|        Meeting|        Carine|            9700998304|      YES|             3.6|         YES|   Uber wallet|             10%|   8.624|   Assigned|\n",
      "| 1/10/2016 8:05| 1/10/2016 8:25|     Kendre|         8900099665|           31| 265814|             Cary|    Morrisville|          8.3|    81.34|        Bike|        Meeting|      Collette|            9212537431|      YES|             3.9|         YES|   Uber wallet|             10%|  89.474|   Assigned|\n",
      "|1/10/2016 12:17|1/10/2016 12:44|      Aymer|         9918333307|           47| 386077|          Jamaica|       New York|         16.5|    161.7|        Bike| Customer Visit|        Killie|            9426616674|       NO|             4.2|         YES|   Uber wallet|             10%|  177.87|    Arrived|\n",
      "|1/10/2016 15:08|1/10/2016 15:51|     Gabbey|         9050095157|           59| 125733|         New York|         Queens|         10.8|   105.84|        Bike|        Meeting|       Ellette|            8949025277|       NO|             4.8|          NO|          cash|              0%|  105.84|   Assigned|\n",
      "|1/10/2016 18:18|1/10/2016 18:53|      Cammi|         7884885405|           19| 646882|         Elmhurst|       New York|          7.5|     73.5|        Bike|        Meeting|         Amara|            9247349792|      YES|             3.6|         YES|          Gpay|              0%|    73.5|   Assigned|\n",
      "|1/10/2016 19:12|1/10/2016 19:32|    Carlyle|         8333928562|           22| 625132|          Midtown|    East Harlem|          6.2|    60.76|        Bike|        Meeting|        Ashlee|            9332965757|      YES|             4.5|         YES|          Gpay|              0%|   60.76|    Arrived|\n",
      "| 1/11/2016 8:55| 1/11/2016 9:21|   Zedekiah|         8283676665|           74| 210314|      East Harlem|          NoMad|          6.4|    62.72|        Bike| Temporary Site|           Kim|            9267421665|      YES|             4.8|         YES|        Phonpe|              0%|   62.72|   Assigned|\n",
      "|1/11/2016 11:56|1/11/2016 12:03|      Sioux|         8362408033|           75| 484320|Flatiron District|        Midtown|          1.6|    15.68|        Bike|Errand/Supplies|         Jacky|            9472034451|       NO|             4.9|         YES|         Paytm|              0%|   15.68|    Arrived|\n",
      "|1/11/2016 13:32|1/11/2016 13:46|    Mathian|         9734846586|           62| 625132|          Midtown|   Midtown East|          1.7|    16.66|        Bike| Meal/Entertain|        Mikkel|            9117822322|       NO|             5.0|          NO|   Uber wallet|             10%|  14.994|    Arrived|\n",
      "|1/11/2016 14:30|1/11/2016 14:43|     Maggie|         7951534876|           36| 491563|     Midtown East|        Midtown|          1.9|    18.62|        Bike| Meal/Entertain|          Geri|            9738692778|      YES|             3.0|         YES|          cash|              0%|   18.62|    Arrived|\n",
      "|1/12/2016 12:33|1/12/2016 12:49|    Maurice|         7932768286|           40| 625132|          Midtown|  Hudson Square|          1.9|    18.62|        Bike| Meal/Entertain|     Stanislas|            9564616492|      YES|             3.6|         YES|   Uber wallet|             10%|  20.482|   Assigned|\n",
      "|1/12/2016 12:53|1/12/2016 13:09|       Timi|         9323566102|           35| 509117|    Hudson Square|Lower Manhattan|          4.0|     39.2|        Bike| Meal/Entertain|          Yvon|            9985025265|      YES|             3.9|         YES|   Uber wallet|             10%|   43.12|    Arrived|\n",
      "|1/12/2016 14:42|1/12/2016 14:56|      Janey|         8572258661|           55| 223672|  Lower Manhattan|  Hudson Square|          1.8|    17.64|        Bike|Errand/Supplies|         Jaine|            9593730071|       NO|             4.2|         YES|   Uber wallet|             10%|  19.404|   Assigned|\n",
      "|1/12/2016 15:13|1/12/2016 15:28|    Huntlee|         9974250697|           32| 318886|      Fort Pierce| Hell's Kitchen|          2.4|    23.52|        Bike| Customer Visit|          Abbi|            9652057745|       NO|             4.8|          NO|   Uber wallet|             10%|  25.872|   Assigned|\n",
      "+---------------+---------------+-----------+-------------------+-------------+-------+-----------------+---------------+-------------+---------+------------+---------------+--------------+----------------------+---------+----------------+------------+--------------+----------------+--------+-----------+\n",
      "only showing top 20 rows\n",
      "\n"
     ]
    }
   ],
   "source": [
    "customer=spark.read.csv(\"\\\\Users\\\\Administrator\\\\Downloads\\\\Uber\\\\Uber\\\\Customer_table.csv\",header=True,inferSchema=True)\n",
    "customer.show()"
   ]
  },
  {
   "cell_type": "code",
   "execution_count": 8,
   "id": "967c0591-da32-4e64-b2fe-f51490eab332",
   "metadata": {},
   "outputs": [
    {
     "name": "stdout",
     "output_type": "stream",
     "text": [
      "+---------------+---------------+--------+----------+---+------+-----------------+---------------+----+------+----+---------+----------+----+----+----+----+-----------+----+-------+---------+\n",
      "|            _c0|            _c1|     _c2|       _c3|_c4|   _c5|              _c6|            _c7| _c8|   _c9|_c10|     _c11|      _c12|_c13|_c14|_c15|_c16|       _c17|_c18|   _c19|     _c20|\n",
      "+---------------+---------------+--------+----------+---+------+-----------------+---------------+----+------+----+---------+----------+----+----+----+----+-----------+----+-------+---------+\n",
      "| 1/1/2016 21:11| 1/1/2016 21:17|  Almire|9298608912| 21|318886|      Fort Pierce|    Fort Pierce| 5.1| 49.98|Bike|  Johanna|9181026109|   3| 141| YES| YES|       Gpay|  0%|  49.98|Cancelled|\n",
      "| 1/2/2016 20:25| 1/2/2016 20:38| Frazier|8621617385| 27|318886|      Fort Pierce|    Fort Pierce| 4.8| 47.04|Bike|  Charlot|9855403124|   4|  65| YES| YES|     Phonpe|  0%|  47.04|  Arrived|\n",
      "| 1/5/2016 17:31| 1/5/2016 17:45|  Editha|9954004976| 20|318886|      Fort Pierce|    Fort Pierce| 4.7| 46.06|Bike|    Cissy|9328907059|   5| 100| YES| YES|      Paytm|  0%|  46.06| Assigned|\n",
      "| 1/6/2016 14:42| 1/6/2016 15:49|   Deeyn|9885727873| 34|318886|      Fort Pierce|West Palm Beach|63.7|624.26|Bike|   Luelle|9774674359|   2|  80|  NO| YES|Uber wallet| 10%|561.834| Assigned|\n",
      "| 1/6/2016 17:15| 1/6/2016 17:19|  Correy|9661756645| 28|475241|  West Palm Beach|West Palm Beach| 4.3| 42.14|Bike|    Myrle|9425892986|   3|  90|  NO|  NO|       cash|  0%|  42.14| Assigned|\n",
      "| 1/6/2016 17:30| 1/6/2016 17:35|   Bryan|8721880095| 50|475241|  West Palm Beach|     Palm Beach| 7.1| 69.58|Bike|   Duncan|9611855033|   4| 228| YES| YES|Uber wallet| 10%| 62.622|  Arrived|\n",
      "| 1/7/2016 13:27| 1/7/2016 13:33|  Crissy|8579258893| 68|265814|             Cary|           Cary| 0.8|  7.84|Bike|   Carine|9700998304|   5|   7| YES| YES|Uber wallet| 10%|  7.056| Assigned|\n",
      "| 1/10/2016 8:05| 1/10/2016 8:25|  Kendre|8900099665| 31|265814|             Cary|    Morrisville| 8.3| 81.34|Bike| Collette|9212537431|   5|  74| YES| YES|Uber wallet| 10%| 73.206| Assigned|\n",
      "|1/10/2016 12:17|1/10/2016 12:44|   Aymer|9918333307| 47|386077|          Jamaica|       New York|16.5| 161.7|Bike|   Killie|9426616674|   5| 249|  NO| YES|Uber wallet| 10%| 145.53|  Arrived|\n",
      "|1/10/2016 15:08|1/10/2016 15:51|  Gabbey|9050095157| 59|125733|         New York|         Queens|10.8|105.84|Bike|  Ellette|8949025277|   4|  22|  NO|  NO|       cash|  0%| 105.84| Assigned|\n",
      "|1/10/2016 18:18|1/10/2016 18:53|   Cammi|7884885405| 19|646882|         Elmhurst|       New York| 7.5|  73.5|Bike|    Amara|9247349792|   4| 263| YES| YES|       Gpay|  0%|   73.5| Assigned|\n",
      "|1/10/2016 19:12|1/10/2016 19:32| Carlyle|8333928562| 22|625132|          Midtown|    East Harlem| 6.2| 60.76|Bike|   Ashlee|9332965757|   3|  61| YES| YES|       Gpay|  0%|  60.76|  Arrived|\n",
      "| 1/11/2016 8:55| 1/11/2016 9:21|Zedekiah|8283676665| 74|210314|      East Harlem|          NoMad| 6.4| 62.72|Bike|      Kim|9267421665|   3| 229| YES| YES|     Phonpe|  0%|  62.72| Assigned|\n",
      "|1/11/2016 11:56|1/11/2016 12:03|   Sioux|8362408033| 75|484320|Flatiron District|        Midtown| 1.6| 15.68|Bike|    Jacky|9472034451|   5| 164|  NO| YES|      Paytm|  0%|  15.68|  Arrived|\n",
      "|1/11/2016 13:32|1/11/2016 13:46| Mathian|9734846586| 62|625132|          Midtown|   Midtown East| 1.7| 16.66|Bike|   Mikkel|9117822322|   5| 237|  NO|  NO|Uber wallet| 10%| 14.994|  Arrived|\n",
      "|1/11/2016 14:30|1/11/2016 14:43|  Maggie|7951534876| 36|491563|     Midtown East|        Midtown| 1.9| 18.62|Bike|     Geri|9738692778|   4| 142| YES| YES|       cash|  0%|  18.62|  Arrived|\n",
      "|1/12/2016 12:33|1/12/2016 12:49| Maurice|7932768286| 40|625132|          Midtown|  Hudson Square| 1.9| 18.62|Bike|Stanislas|9564616492|   5| 188| YES| YES|Uber wallet| 10%| 16.758| Assigned|\n",
      "|1/12/2016 12:53|1/12/2016 13:09|    Timi|9323566102| 35|509117|    Hudson Square|Lower Manhattan| 4.0|  39.2|Bike|     Yvon|9985025265|   5| 237| YES| YES|Uber wallet| 10%|  35.28|  Arrived|\n",
      "|1/12/2016 14:42|1/12/2016 14:56|   Janey|8572258661| 55|223672|  Lower Manhattan|  Hudson Square| 1.8| 17.64|Bike|    Jaine|9593730071|   5| 224|  NO| YES|Uber wallet| 10%| 15.876| Assigned|\n",
      "|1/12/2016 15:13|1/12/2016 15:28| Huntlee|9974250697| 32|318886|      Fort Pierce| Hell's Kitchen| 2.4| 23.52|Bike|     Abbi|9652057745|   5| 238|  NO|  NO|Uber wallet| 10%| 21.168| Assigned|\n",
      "+---------------+---------------+--------+----------+---+------+-----------------+---------------+----+------+----+---------+----------+----+----+----+----+-----------+----+-------+---------+\n",
      "only showing top 20 rows\n",
      "\n"
     ]
    }
   ],
   "source": [
    "riders_data=spark.read.csv(\"\\\\Users\\\\Administrator\\\\Downloads\\\\Uber\\\\Uber\\\\Riders_data.csv\",inferSchema=True)\n",
    "riders_data.show()"
   ]
  },
  {
   "cell_type": "code",
   "execution_count": 9,
   "id": "0b5fcceb-dda4-4ebc-9b4e-8f507f37c556",
   "metadata": {},
   "outputs": [
    {
     "name": "stdout",
     "output_type": "stream",
     "text": [
      "root\n",
      " |-- Start_time: string (nullable = true)\n",
      " |-- End_time: string (nullable = true)\n",
      " |-- Name: string (nullable = true)\n",
      " |-- Mobile: long (nullable = true)\n",
      " |-- Age: integer (nullable = true)\n",
      " |-- Pin-Codes: integer (nullable = true)\n",
      " |-- Source: string (nullable = true)\n",
      " |-- Vaccine_cus: string (nullable = true)\n",
      " |-- Destination: string (nullable = true)\n",
      " |-- Miles: double (nullable = true)\n",
      " |-- Est_Costing: double (nullable = true)\n",
      " |-- Ride_category: string (nullable = true)\n",
      " |-- Purpose: string (nullable = true)\n",
      " |-- temp: double (nullable = true)\n",
      " |-- clouds: double (nullable = true)\n",
      " |-- pressure: double (nullable = true)\n",
      " |-- humidity: double (nullable = true)\n",
      " |-- wind: double (nullable = true)\n",
      " |-- accquire_vehi: integer (nullable = true)\n",
      " |-- free_vehi: string (nullable = true)\n",
      " |-- Lattitute: double (nullable = true)\n",
      " |-- Longitude: double (nullable = true)\n",
      " |-- locationID: integer (nullable = true)\n",
      " |-- rating_cus: integer (nullable = true)\n",
      " |-- Riders_Name: string (nullable = true)\n",
      " |-- Riders_contact: long (nullable = true)\n",
      " |-- Trusted_Contact: string (nullable = true)\n",
      " |-- Rating_RI: double (nullable = true)\n",
      " |-- Vaccine_Ri: string (nullable = true)\n",
      " |-- Payment_mode: string (nullable = true)\n",
      " |-- Discount: string (nullable = true)\n",
      " |-- Final_cost: double (nullable = true)\n",
      " |-- Status: string (nullable = true)\n",
      "\n"
     ]
    }
   ],
   "source": [
    "admin_data.printSchema()"
   ]
  },
  {
   "cell_type": "code",
   "execution_count": 10,
   "id": "ecc36213-19ba-48ff-b8e3-b4d4591b6979",
   "metadata": {},
   "outputs": [
    {
     "name": "stdout",
     "output_type": "stream",
     "text": [
      "root\n",
      " |-- Pickup DateTime: string (nullable = true)\n",
      " |-- Drop DateTime: string (nullable = true)\n",
      " |-- Driver Name: string (nullable = true)\n",
      " |-- Driver Phone Number: long (nullable = true)\n",
      " |-- Trip Distance: integer (nullable = true)\n",
      " |-- Trip ID: integer (nullable = true)\n",
      " |-- Pickup Location: string (nullable = true)\n",
      " |-- Drop Location: string (nullable = true)\n",
      " |-- Trip Duration: double (nullable = true)\n",
      " |-- Trip Fare: double (nullable = true)\n",
      " |-- Vehicle Type: string (nullable = true)\n",
      " |-- Trip Purpose: string (nullable = true)\n",
      " |-- Passenger Name: string (nullable = true)\n",
      " |-- Passenger Phone Number: long (nullable = true)\n",
      " |-- Scheduled: string (nullable = true)\n",
      " |-- Passenger Rating: double (nullable = true)\n",
      " |-- Driver Rated: string (nullable = true)\n",
      " |-- Payment Method: string (nullable = true)\n",
      " |-- Payment Discount: string (nullable = true)\n",
      " |-- Net Fare: double (nullable = true)\n",
      " |-- Trip Status: string (nullable = true)\n",
      "\n"
     ]
    }
   ],
   "source": [
    "customer.printSchema()"
   ]
  },
  {
   "cell_type": "code",
   "execution_count": 11,
   "id": "bde8f074-ae06-4b68-ac57-8eeb81a159c3",
   "metadata": {},
   "outputs": [
    {
     "name": "stdout",
     "output_type": "stream",
     "text": [
      "root\n",
      " |-- _c0: string (nullable = true)\n",
      " |-- _c1: string (nullable = true)\n",
      " |-- _c2: string (nullable = true)\n",
      " |-- _c3: long (nullable = true)\n",
      " |-- _c4: integer (nullable = true)\n",
      " |-- _c5: integer (nullable = true)\n",
      " |-- _c6: string (nullable = true)\n",
      " |-- _c7: string (nullable = true)\n",
      " |-- _c8: double (nullable = true)\n",
      " |-- _c9: double (nullable = true)\n",
      " |-- _c10: string (nullable = true)\n",
      " |-- _c11: string (nullable = true)\n",
      " |-- _c12: long (nullable = true)\n",
      " |-- _c13: integer (nullable = true)\n",
      " |-- _c14: integer (nullable = true)\n",
      " |-- _c15: string (nullable = true)\n",
      " |-- _c16: string (nullable = true)\n",
      " |-- _c17: string (nullable = true)\n",
      " |-- _c18: string (nullable = true)\n",
      " |-- _c19: double (nullable = true)\n",
      " |-- _c20: string (nullable = true)\n",
      "\n"
     ]
    }
   ],
   "source": [
    "riders_data.printSchema()"
   ]
  },
  {
   "cell_type": "markdown",
   "id": "bacf3e0e-2e0a-4b1a-9278-2bb12d6304e5",
   "metadata": {},
   "source": [
    "# Q1) How many number of customers take trip from same location?\n"
   ]
  },
  {
   "cell_type": "code",
   "execution_count": 17,
   "id": "74f1caa4-c336-4c5c-8a80-1f8cbf01e1b2",
   "metadata": {},
   "outputs": [
    {
     "name": "stdout",
     "output_type": "stream",
     "text": [
      "+-----------------+----------------+\n",
      "|  Pickup Location|customers_number|\n",
      "+-----------------+----------------+\n",
      "|      Fort Pierce|              90|\n",
      "|          Midtown|              57|\n",
      "|  West Palm Beach|              48|\n",
      "|             Cary|              47|\n",
      "|  Lower Manhattan|              26|\n",
      "|     Midtown East|              26|\n",
      "|Flatiron District|              26|\n",
      "|      East Harlem|              26|\n",
      "|    Hudson Square|              26|\n",
      "|          Jamaica|              26|\n",
      "|         New York|              26|\n",
      "|         Elmhurst|              26|\n",
      "+-----------------+----------------+\n",
      "\n"
     ]
    }
   ],
   "source": [
    "from pyspark.sql.functions import countDistinct\n",
    "\n",
    "loc_customers=customer.groupBy(\"Pickup Location\").agg(countDistinct(\"Passenger Phone Number\").alias(\"customers_number\")).orderBy(\"customers_number\",ascending=False)\n",
    "loc_customers.show()"
   ]
  },
  {
   "cell_type": "markdown",
   "id": "b089f233-d546-4ff4-a863-d2deafd0ebba",
   "metadata": {},
   "source": [
    "# Q2) What is the priority for each ride category from each location? "
   ]
  },
  {
   "cell_type": "code",
   "execution_count": null,
   "id": "5e4fa6d8-350d-4296-968f-86e67877c730",
   "metadata": {},
   "outputs": [],
   "source": []
  },
  {
   "cell_type": "code",
   "execution_count": null,
   "id": "f702bd5d-00a1-4701-942b-70972c828816",
   "metadata": {},
   "outputs": [],
   "source": []
  },
  {
   "cell_type": "markdown",
   "id": "1b5f9ef9-d287-426c-b63b-6ad87736d4e1",
   "metadata": {},
   "source": [
    "# Q3) What are the longest locations of customer travelled? "
   ]
  },
  {
   "cell_type": "code",
   "execution_count": 24,
   "id": "a82fee08-aa98-47fb-a5e0-5408c04a4294",
   "metadata": {},
   "outputs": [
    {
     "name": "stdout",
     "output_type": "stream",
     "text": [
      "+---------------+-------------+-------------+\n",
      "|Pickup Location|Drop Location|Trip Distance|\n",
      "+---------------+-------------+-------------+\n",
      "|    East Harlem|  Whitebridge|           80|\n",
      "|   Midtown East|       Durham|           80|\n",
      "|    Fort Pierce|         Cary|           80|\n",
      "|       Elmhurst|         Cary|           80|\n",
      "|           Cary|  Whitebridge|           80|\n",
      "+---------------+-------------+-------------+\n",
      "\n"
     ]
    }
   ],
   "source": [
    "#Shows top 5 cities\n",
    "longest_trips=customer.select(\"Pickup Location\",\"Drop Location\",\"Trip Distance\").orderBy(\"Trip Distance\",ascending=False).limit(5)\n",
    "longest_trips.show()"
   ]
  },
  {
   "cell_type": "markdown",
   "id": "a6fc89b7-074b-4084-b9de-73fda0c5bd08",
   "metadata": {},
   "source": [
    "# Q4) Drivers who completed ride with non-vaccinated customers"
   ]
  },
  {
   "cell_type": "code",
   "execution_count": 14,
   "id": "7770566e-a5d4-440c-8b48-5c27d5d6dac7",
   "metadata": {},
   "outputs": [
    {
     "name": "stdout",
     "output_type": "stream",
     "text": [
      "+-------+----------+-----------+\n",
      "|   Name|    Mobile|Riders_Name|\n",
      "+-------+----------+-----------+\n",
      "| Correy|9661756645|      Myrle|\n",
      "| Gabbey|9050095157|    Ellette|\n",
      "|Mathian|9734846586|     Mikkel|\n",
      "|Huntlee|9974250697|       Abbi|\n",
      "|   Clim|8859680135|       Dora|\n",
      "|Geordie|8410911653|     Pattin|\n",
      "| Horten|8215695084|        Kip|\n",
      "|    Ray|8407563494|     Haskel|\n",
      "|  Boyce|9183218576|      Cindi|\n",
      "|   Berk|8875035370|    Yasmeen|\n",
      "| Aubert|9524013920|       Burk|\n",
      "|Stavros|8197008138|      Natty|\n",
      "| Norene|9202013524|       Kain|\n",
      "|  Stace|7867224866|        Pen|\n",
      "| Stefan|9194958211|      Sandy|\n",
      "|Cassius|9309163124|   Kimberly|\n",
      "| Crysta|9003775113|        Tim|\n",
      "|  Chadd|9451864545|    Carolus|\n",
      "|    Val|8472948148|      Marta|\n",
      "|  Glori|8563960701|    Romonda|\n",
      "+-------+----------+-----------+\n",
      "only showing top 20 rows\n",
      "\n"
     ]
    }
   ],
   "source": [
    "non_vaccinated = admin_data.filter(admin_data.Vaccine_cus == \"NO\").select(\"Name\",\"Mobile\",\"Riders_Name\")\n",
    "non_vaccinated.show()"
   ]
  },
  {
   "cell_type": "code",
   "execution_count": 15,
   "id": "dfa81c6e-91fb-4904-8986-4a6f85f626a2",
   "metadata": {},
   "outputs": [
    {
     "data": {
      "text/plain": [
       "100"
      ]
     },
     "execution_count": 15,
     "metadata": {},
     "output_type": "execute_result"
    }
   ],
   "source": [
    "non_vaccinated.count()"
   ]
  },
  {
   "cell_type": "markdown",
   "id": "76824b16-b3c9-4c23-b5db-86006265fd88",
   "metadata": {},
   "source": [
    "# Q5) How many vaccinated customers have travelled "
   ]
  },
  {
   "cell_type": "code",
   "execution_count": 12,
   "id": "aac62c9d-0eec-4962-a5db-ffa6814c6e41",
   "metadata": {},
   "outputs": [
    {
     "name": "stdout",
     "output_type": "stream",
     "text": [
      "+--------+----------+\n",
      "|    Name|    mobile|\n",
      "+--------+----------+\n",
      "|  Almire|9298608912|\n",
      "| Frazier|8621617385|\n",
      "|  Editha|9954004976|\n",
      "|   Deeyn|9885727873|\n",
      "|   Bryan|8721880095|\n",
      "|  Crissy|8579258893|\n",
      "|  Kendre|8900099665|\n",
      "|   Aymer|9918333307|\n",
      "|   Cammi|7884885405|\n",
      "| Carlyle|8333928562|\n",
      "|Zedekiah|8283676665|\n",
      "|   Sioux|8362408033|\n",
      "|  Maggie|7951534876|\n",
      "| Maurice|7932768286|\n",
      "|    Timi|9323566102|\n",
      "|   Janey|8572258661|\n",
      "|  Evania|9370194252|\n",
      "|   Mayne|9557445925|\n",
      "|    Iain|9313837934|\n",
      "|   Moore|8692496691|\n",
      "+--------+----------+\n",
      "only showing top 20 rows\n",
      "\n"
     ]
    }
   ],
   "source": [
    "vaccine_cus = admin_data.filter(admin_data.Vaccine_cus == \"YES\").select(\"Name\",\"mobile\")\n",
    "vaccine_cus.show()"
   ]
  },
  {
   "cell_type": "code",
   "execution_count": 13,
   "id": "2088e8ac-6cc1-46cb-8eaa-2ab218bd2ad2",
   "metadata": {},
   "outputs": [
    {
     "data": {
      "text/plain": [
       "400"
      ]
     },
     "execution_count": 13,
     "metadata": {},
     "output_type": "execute_result"
    }
   ],
   "source": [
    "vaccine_cus.count()"
   ]
  },
  {
   "cell_type": "markdown",
   "id": "9bcb4c6d-bfca-45f3-a770-7018acf1bce6",
   "metadata": {},
   "source": [
    "# Q6) Customers who completed ride with non-vaccinated drivers"
   ]
  },
  {
   "cell_type": "code",
   "execution_count": null,
   "id": "e9a8a45a-cf54-492a-b341-87f40c134425",
   "metadata": {},
   "outputs": [],
   "source": []
  },
  {
   "cell_type": "markdown",
   "id": "1113a48c-2062-440e-b3be-7c5a98be8b65",
   "metadata": {},
   "source": [
    "# Q7) Which customer completed highest number of rides"
   ]
  },
  {
   "cell_type": "code",
   "execution_count": 19,
   "id": "caf2cf7f-872c-4351-b5b5-574f8d627a4a",
   "metadata": {},
   "outputs": [
    {
     "name": "stdout",
     "output_type": "stream",
     "text": [
      "+--------------+----------+\n",
      "|Passenger name|Trip count|\n",
      "+--------------+----------+\n",
      "|          Cher|        10|\n",
      "|        Damien|         5|\n",
      "|        Mikkel|         5|\n",
      "|      Sergeant|         5|\n",
      "|       Saundra|         5|\n",
      "+--------------+----------+\n",
      "only showing top 5 rows\n",
      "\n"
     ]
    }
   ],
   "source": [
    "from pyspark.sql.functions import count\n",
    "\n",
    "high_rides = customer.groupBy(\"Passenger name\").agg(count(\"Passenger Name\").alias(\"Trip count\")).orderBy(\"Trip Count\",ascending=False)\n",
    "high_rides.show(5)"
   ]
  },
  {
   "cell_type": "markdown",
   "id": "a6c60fb3-8caa-4367-b343-405f5dba0a25",
   "metadata": {},
   "source": [
    "# Q8) Which customer completed highest number of rides"
   ]
  },
  {
   "cell_type": "code",
   "execution_count": 18,
   "id": "daed5d0c-640a-458f-b8ec-b7b5839c9817",
   "metadata": {},
   "outputs": [
    {
     "name": "stdout",
     "output_type": "stream",
     "text": [
      "+-----------+------------+\n",
      "|Driver Name|highest_ride|\n",
      "+-----------+------------+\n",
      "|    Mathian|           2|\n",
      "+-----------+------------+\n",
      "only showing top 1 row\n",
      "\n"
     ]
    }
   ],
   "source": [
    "from pyspark.sql.functions import count,col\n",
    "\n",
    "highest_rides = customer.groupBy(\"Driver Name\").agg(count(\"*\").alias(\"highest_ride\")).orderBy(col(\"highest_ride\").desc())\n",
    "highest_rides.show(1)"
   ]
  },
  {
   "cell_type": "code",
   "execution_count": null,
   "id": "15847924-8986-4d14-ad81-e2a737898a2f",
   "metadata": {},
   "outputs": [],
   "source": []
  }
 ],
 "metadata": {
  "kernelspec": {
   "display_name": "PySpark",
   "language": "python",
   "name": "pyspark"
  },
  "language_info": {
   "codemirror_mode": {
    "name": "ipython",
    "version": 3
   },
   "file_extension": ".py",
   "mimetype": "text/x-python",
   "name": "python",
   "nbconvert_exporter": "python",
   "pygments_lexer": "ipython3",
   "version": "3.11.0"
  }
 },
 "nbformat": 4,
 "nbformat_minor": 5
}
