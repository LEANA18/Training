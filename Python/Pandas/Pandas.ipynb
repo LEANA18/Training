{
 "cells": [
  {
   "cell_type": "code",
   "execution_count": 1,
   "id": "61fe867a-1046-41eb-afb6-50ceb9684ddb",
   "metadata": {},
   "outputs": [
    {
     "data": {
      "text/plain": [
       "'C:\\\\Users\\\\Administrator'"
      ]
     },
     "execution_count": 1,
     "metadata": {},
     "output_type": "execute_result"
    }
   ],
   "source": [
    "import os\n",
    "os.getcwd()"
   ]
  },
  {
   "cell_type": "code",
   "execution_count": 2,
   "id": "d8ee70bb-8b48-4724-8930-e8457c16a6fa",
   "metadata": {},
   "outputs": [
    {
     "data": {
      "text/html": [
       "<div>\n",
       "<style scoped>\n",
       "    .dataframe tbody tr th:only-of-type {\n",
       "        vertical-align: middle;\n",
       "    }\n",
       "\n",
       "    .dataframe tbody tr th {\n",
       "        vertical-align: top;\n",
       "    }\n",
       "\n",
       "    .dataframe thead th {\n",
       "        text-align: right;\n",
       "    }\n",
       "</style>\n",
       "<table border=\"1\" class=\"dataframe\">\n",
       "  <thead>\n",
       "    <tr style=\"text-align: right;\">\n",
       "      <th></th>\n",
       "      <th>EST</th>\n",
       "      <th>Temperature</th>\n",
       "      <th>DewPoint</th>\n",
       "      <th>Humidity</th>\n",
       "      <th>Sea Level PressureIn</th>\n",
       "      <th>VisibilityMiles</th>\n",
       "      <th>WindSpeedMPH</th>\n",
       "      <th>PrecipitationIn</th>\n",
       "      <th>CloudCover</th>\n",
       "      <th>Events</th>\n",
       "      <th>WindDirDegrees</th>\n",
       "    </tr>\n",
       "  </thead>\n",
       "  <tbody>\n",
       "    <tr>\n",
       "      <th>1</th>\n",
       "      <td>1/2/2016</td>\n",
       "      <td>36</td>\n",
       "      <td>18</td>\n",
       "      <td>46</td>\n",
       "      <td>30.02</td>\n",
       "      <td>10</td>\n",
       "      <td>7.0</td>\n",
       "      <td>0</td>\n",
       "      <td>3</td>\n",
       "      <td>NaN</td>\n",
       "      <td>275</td>\n",
       "    </tr>\n",
       "    <tr>\n",
       "      <th>2</th>\n",
       "      <td>1/3/2016</td>\n",
       "      <td>40</td>\n",
       "      <td>21</td>\n",
       "      <td>47</td>\n",
       "      <td>29.86</td>\n",
       "      <td>10</td>\n",
       "      <td>8.0</td>\n",
       "      <td>0</td>\n",
       "      <td>1</td>\n",
       "      <td>NaN</td>\n",
       "      <td>277</td>\n",
       "    </tr>\n",
       "    <tr>\n",
       "      <th>3</th>\n",
       "      <td>1/4/2016</td>\n",
       "      <td>25</td>\n",
       "      <td>9</td>\n",
       "      <td>44</td>\n",
       "      <td>30.05</td>\n",
       "      <td>10</td>\n",
       "      <td>9.0</td>\n",
       "      <td>0</td>\n",
       "      <td>3</td>\n",
       "      <td>NaN</td>\n",
       "      <td>345</td>\n",
       "    </tr>\n",
       "    <tr>\n",
       "      <th>4</th>\n",
       "      <td>1/5/2016</td>\n",
       "      <td>20</td>\n",
       "      <td>-3</td>\n",
       "      <td>41</td>\n",
       "      <td>30.57</td>\n",
       "      <td>10</td>\n",
       "      <td>5.0</td>\n",
       "      <td>0</td>\n",
       "      <td>0</td>\n",
       "      <td>NaN</td>\n",
       "      <td>333</td>\n",
       "    </tr>\n",
       "    <tr>\n",
       "      <th>5</th>\n",
       "      <td>1/6/2016</td>\n",
       "      <td>33</td>\n",
       "      <td>4</td>\n",
       "      <td>35</td>\n",
       "      <td>30.50</td>\n",
       "      <td>10</td>\n",
       "      <td>4.0</td>\n",
       "      <td>0</td>\n",
       "      <td>0</td>\n",
       "      <td>NaN</td>\n",
       "      <td>259</td>\n",
       "    </tr>\n",
       "    <tr>\n",
       "      <th>6</th>\n",
       "      <td>1/7/2016</td>\n",
       "      <td>39</td>\n",
       "      <td>11</td>\n",
       "      <td>33</td>\n",
       "      <td>30.28</td>\n",
       "      <td>10</td>\n",
       "      <td>2.0</td>\n",
       "      <td>0</td>\n",
       "      <td>3</td>\n",
       "      <td>NaN</td>\n",
       "      <td>293</td>\n",
       "    </tr>\n",
       "    <tr>\n",
       "      <th>7</th>\n",
       "      <td>1/8/2016</td>\n",
       "      <td>39</td>\n",
       "      <td>29</td>\n",
       "      <td>64</td>\n",
       "      <td>30.20</td>\n",
       "      <td>10</td>\n",
       "      <td>4.0</td>\n",
       "      <td>0</td>\n",
       "      <td>8</td>\n",
       "      <td>NaN</td>\n",
       "      <td>79</td>\n",
       "    </tr>\n",
       "    <tr>\n",
       "      <th>8</th>\n",
       "      <td>1/9/2016</td>\n",
       "      <td>44</td>\n",
       "      <td>38</td>\n",
       "      <td>77</td>\n",
       "      <td>30.16</td>\n",
       "      <td>9</td>\n",
       "      <td>8.0</td>\n",
       "      <td>T</td>\n",
       "      <td>8</td>\n",
       "      <td>Rain</td>\n",
       "      <td>76</td>\n",
       "    </tr>\n",
       "    <tr>\n",
       "      <th>9</th>\n",
       "      <td>1/10/2016</td>\n",
       "      <td>50</td>\n",
       "      <td>46</td>\n",
       "      <td>71</td>\n",
       "      <td>29.59</td>\n",
       "      <td>4</td>\n",
       "      <td>NaN</td>\n",
       "      <td>1.8</td>\n",
       "      <td>7</td>\n",
       "      <td>Rain</td>\n",
       "      <td>109</td>\n",
       "    </tr>\n",
       "    <tr>\n",
       "      <th>10</th>\n",
       "      <td>1/11/2016</td>\n",
       "      <td>33</td>\n",
       "      <td>8</td>\n",
       "      <td>37</td>\n",
       "      <td>29.92</td>\n",
       "      <td>10</td>\n",
       "      <td>NaN</td>\n",
       "      <td>0</td>\n",
       "      <td>1</td>\n",
       "      <td>NaN</td>\n",
       "      <td>289</td>\n",
       "    </tr>\n",
       "    <tr>\n",
       "      <th>11</th>\n",
       "      <td>1/12/2016</td>\n",
       "      <td>35</td>\n",
       "      <td>15</td>\n",
       "      <td>53</td>\n",
       "      <td>29.85</td>\n",
       "      <td>10</td>\n",
       "      <td>6.0</td>\n",
       "      <td>T</td>\n",
       "      <td>4</td>\n",
       "      <td>NaN</td>\n",
       "      <td>235</td>\n",
       "    </tr>\n",
       "    <tr>\n",
       "      <th>12</th>\n",
       "      <td>1/13/2016</td>\n",
       "      <td>26</td>\n",
       "      <td>4</td>\n",
       "      <td>42</td>\n",
       "      <td>29.94</td>\n",
       "      <td>10</td>\n",
       "      <td>10.0</td>\n",
       "      <td>0</td>\n",
       "      <td>0</td>\n",
       "      <td>NaN</td>\n",
       "      <td>284</td>\n",
       "    </tr>\n",
       "    <tr>\n",
       "      <th>13</th>\n",
       "      <td>1/14/2016</td>\n",
       "      <td>30</td>\n",
       "      <td>12</td>\n",
       "      <td>47</td>\n",
       "      <td>29.95</td>\n",
       "      <td>10</td>\n",
       "      <td>5.0</td>\n",
       "      <td>T</td>\n",
       "      <td>7</td>\n",
       "      <td>NaN</td>\n",
       "      <td>266</td>\n",
       "    </tr>\n",
       "    <tr>\n",
       "      <th>14</th>\n",
       "      <td>1/15/2016</td>\n",
       "      <td>43</td>\n",
       "      <td>31</td>\n",
       "      <td>62</td>\n",
       "      <td>29.82</td>\n",
       "      <td>9</td>\n",
       "      <td>5.0</td>\n",
       "      <td>T</td>\n",
       "      <td>2</td>\n",
       "      <td>NaN</td>\n",
       "      <td>101</td>\n",
       "    </tr>\n",
       "    <tr>\n",
       "      <th>15</th>\n",
       "      <td>1/16/2016</td>\n",
       "      <td>47</td>\n",
       "      <td>37</td>\n",
       "      <td>70</td>\n",
       "      <td>29.52</td>\n",
       "      <td>8</td>\n",
       "      <td>7.0</td>\n",
       "      <td>0.24</td>\n",
       "      <td>7</td>\n",
       "      <td>Rain</td>\n",
       "      <td>340</td>\n",
       "    </tr>\n",
       "    <tr>\n",
       "      <th>16</th>\n",
       "      <td>1/17/2016</td>\n",
       "      <td>36</td>\n",
       "      <td>23</td>\n",
       "      <td>66</td>\n",
       "      <td>29.78</td>\n",
       "      <td>8</td>\n",
       "      <td>6.0</td>\n",
       "      <td>0.05</td>\n",
       "      <td>6</td>\n",
       "      <td>Fog-Snow</td>\n",
       "      <td>345</td>\n",
       "    </tr>\n",
       "    <tr>\n",
       "      <th>17</th>\n",
       "      <td>1/18/2016</td>\n",
       "      <td>25</td>\n",
       "      <td>6</td>\n",
       "      <td>53</td>\n",
       "      <td>29.83</td>\n",
       "      <td>9</td>\n",
       "      <td>12.0</td>\n",
       "      <td>T</td>\n",
       "      <td>2</td>\n",
       "      <td>Snow</td>\n",
       "      <td>293</td>\n",
       "    </tr>\n",
       "    <tr>\n",
       "      <th>18</th>\n",
       "      <td>1/19/2016</td>\n",
       "      <td>22</td>\n",
       "      <td>3</td>\n",
       "      <td>42</td>\n",
       "      <td>30.03</td>\n",
       "      <td>10</td>\n",
       "      <td>11.0</td>\n",
       "      <td>0</td>\n",
       "      <td>1</td>\n",
       "      <td>NaN</td>\n",
       "      <td>293</td>\n",
       "    </tr>\n",
       "    <tr>\n",
       "      <th>19</th>\n",
       "      <td>1/20/2016</td>\n",
       "      <td>32</td>\n",
       "      <td>15</td>\n",
       "      <td>49</td>\n",
       "      <td>30.13</td>\n",
       "      <td>10</td>\n",
       "      <td>6.0</td>\n",
       "      <td>0</td>\n",
       "      <td>2</td>\n",
       "      <td>NaN</td>\n",
       "      <td>302</td>\n",
       "    </tr>\n",
       "    <tr>\n",
       "      <th>20</th>\n",
       "      <td>1/21/2016</td>\n",
       "      <td>31</td>\n",
       "      <td>11</td>\n",
       "      <td>45</td>\n",
       "      <td>30.15</td>\n",
       "      <td>10</td>\n",
       "      <td>6.0</td>\n",
       "      <td>0</td>\n",
       "      <td>1</td>\n",
       "      <td>NaN</td>\n",
       "      <td>312</td>\n",
       "    </tr>\n",
       "    <tr>\n",
       "      <th>21</th>\n",
       "      <td>1/22/2016</td>\n",
       "      <td>26</td>\n",
       "      <td>6</td>\n",
       "      <td>41</td>\n",
       "      <td>30.21</td>\n",
       "      <td>9</td>\n",
       "      <td>NaN</td>\n",
       "      <td>0.01</td>\n",
       "      <td>3</td>\n",
       "      <td>Snow</td>\n",
       "      <td>34</td>\n",
       "    </tr>\n",
       "    <tr>\n",
       "      <th>22</th>\n",
       "      <td>1/23/2016</td>\n",
       "      <td>26</td>\n",
       "      <td>21</td>\n",
       "      <td>78</td>\n",
       "      <td>29.77</td>\n",
       "      <td>1</td>\n",
       "      <td>16.0</td>\n",
       "      <td>2.31</td>\n",
       "      <td>8</td>\n",
       "      <td>Fog-Snow</td>\n",
       "      <td>42</td>\n",
       "    </tr>\n",
       "    <tr>\n",
       "      <th>23</th>\n",
       "      <td>1/24/2016</td>\n",
       "      <td>28</td>\n",
       "      <td>11</td>\n",
       "      <td>53</td>\n",
       "      <td>29.92</td>\n",
       "      <td>8</td>\n",
       "      <td>6.0</td>\n",
       "      <td>T</td>\n",
       "      <td>3</td>\n",
       "      <td>Snow</td>\n",
       "      <td>327</td>\n",
       "    </tr>\n",
       "    <tr>\n",
       "      <th>24</th>\n",
       "      <td>1/25/2016</td>\n",
       "      <td>34</td>\n",
       "      <td>18</td>\n",
       "      <td>54</td>\n",
       "      <td>30.25</td>\n",
       "      <td>10</td>\n",
       "      <td>3.0</td>\n",
       "      <td>0</td>\n",
       "      <td>2</td>\n",
       "      <td>NaN</td>\n",
       "      <td>286</td>\n",
       "    </tr>\n",
       "    <tr>\n",
       "      <th>25</th>\n",
       "      <td>1/26/2016</td>\n",
       "      <td>43</td>\n",
       "      <td>29</td>\n",
       "      <td>56</td>\n",
       "      <td>30.03</td>\n",
       "      <td>10</td>\n",
       "      <td>7.0</td>\n",
       "      <td>0</td>\n",
       "      <td>2</td>\n",
       "      <td>NaN</td>\n",
       "      <td>244</td>\n",
       "    </tr>\n",
       "    <tr>\n",
       "      <th>26</th>\n",
       "      <td>1/27/2016</td>\n",
       "      <td>41</td>\n",
       "      <td>22</td>\n",
       "      <td>45</td>\n",
       "      <td>30.03</td>\n",
       "      <td>10</td>\n",
       "      <td>7.0</td>\n",
       "      <td>T</td>\n",
       "      <td>3</td>\n",
       "      <td>Rain</td>\n",
       "      <td>311</td>\n",
       "    </tr>\n",
       "    <tr>\n",
       "      <th>27</th>\n",
       "      <td>1/28/2016</td>\n",
       "      <td>37</td>\n",
       "      <td>20</td>\n",
       "      <td>51</td>\n",
       "      <td>29.90</td>\n",
       "      <td>10</td>\n",
       "      <td>5.0</td>\n",
       "      <td>0</td>\n",
       "      <td>1</td>\n",
       "      <td>NaN</td>\n",
       "      <td>234</td>\n",
       "    </tr>\n",
       "    <tr>\n",
       "      <th>28</th>\n",
       "      <td>1/29/2016</td>\n",
       "      <td>36</td>\n",
       "      <td>21</td>\n",
       "      <td>50</td>\n",
       "      <td>29.58</td>\n",
       "      <td>10</td>\n",
       "      <td>8.0</td>\n",
       "      <td>0</td>\n",
       "      <td>4</td>\n",
       "      <td>NaN</td>\n",
       "      <td>298</td>\n",
       "    </tr>\n",
       "    <tr>\n",
       "      <th>29</th>\n",
       "      <td>1/30/2016</td>\n",
       "      <td>34</td>\n",
       "      <td>16</td>\n",
       "      <td>46</td>\n",
       "      <td>30.01</td>\n",
       "      <td>10</td>\n",
       "      <td>7.0</td>\n",
       "      <td>0</td>\n",
       "      <td>0</td>\n",
       "      <td>NaN</td>\n",
       "      <td>257</td>\n",
       "    </tr>\n",
       "    <tr>\n",
       "      <th>30</th>\n",
       "      <td>1/31/2016</td>\n",
       "      <td>46</td>\n",
       "      <td>28</td>\n",
       "      <td>52</td>\n",
       "      <td>29.90</td>\n",
       "      <td>10</td>\n",
       "      <td>5.0</td>\n",
       "      <td>0</td>\n",
       "      <td>0</td>\n",
       "      <td>NaN</td>\n",
       "      <td>241</td>\n",
       "    </tr>\n",
       "  </tbody>\n",
       "</table>\n",
       "</div>"
      ],
      "text/plain": [
       "          EST  Temperature  DewPoint  Humidity  Sea Level PressureIn  \\\n",
       "1    1/2/2016           36        18        46                 30.02   \n",
       "2    1/3/2016           40        21        47                 29.86   \n",
       "3    1/4/2016           25         9        44                 30.05   \n",
       "4    1/5/2016           20        -3        41                 30.57   \n",
       "5    1/6/2016           33         4        35                 30.50   \n",
       "6    1/7/2016           39        11        33                 30.28   \n",
       "7    1/8/2016           39        29        64                 30.20   \n",
       "8    1/9/2016           44        38        77                 30.16   \n",
       "9   1/10/2016           50        46        71                 29.59   \n",
       "10  1/11/2016           33         8        37                 29.92   \n",
       "11  1/12/2016           35        15        53                 29.85   \n",
       "12  1/13/2016           26         4        42                 29.94   \n",
       "13  1/14/2016           30        12        47                 29.95   \n",
       "14  1/15/2016           43        31        62                 29.82   \n",
       "15  1/16/2016           47        37        70                 29.52   \n",
       "16  1/17/2016           36        23        66                 29.78   \n",
       "17  1/18/2016           25         6        53                 29.83   \n",
       "18  1/19/2016           22         3        42                 30.03   \n",
       "19  1/20/2016           32        15        49                 30.13   \n",
       "20  1/21/2016           31        11        45                 30.15   \n",
       "21  1/22/2016           26         6        41                 30.21   \n",
       "22  1/23/2016           26        21        78                 29.77   \n",
       "23  1/24/2016           28        11        53                 29.92   \n",
       "24  1/25/2016           34        18        54                 30.25   \n",
       "25  1/26/2016           43        29        56                 30.03   \n",
       "26  1/27/2016           41        22        45                 30.03   \n",
       "27  1/28/2016           37        20        51                 29.90   \n",
       "28  1/29/2016           36        21        50                 29.58   \n",
       "29  1/30/2016           34        16        46                 30.01   \n",
       "30  1/31/2016           46        28        52                 29.90   \n",
       "\n",
       "    VisibilityMiles  WindSpeedMPH PrecipitationIn  CloudCover    Events  \\\n",
       "1                10           7.0               0           3       NaN   \n",
       "2                10           8.0               0           1       NaN   \n",
       "3                10           9.0               0           3       NaN   \n",
       "4                10           5.0               0           0       NaN   \n",
       "5                10           4.0               0           0       NaN   \n",
       "6                10           2.0               0           3       NaN   \n",
       "7                10           4.0               0           8       NaN   \n",
       "8                 9           8.0               T           8      Rain   \n",
       "9                 4           NaN             1.8           7      Rain   \n",
       "10               10           NaN               0           1       NaN   \n",
       "11               10           6.0               T           4       NaN   \n",
       "12               10          10.0               0           0       NaN   \n",
       "13               10           5.0               T           7       NaN   \n",
       "14                9           5.0               T           2       NaN   \n",
       "15                8           7.0            0.24           7      Rain   \n",
       "16                8           6.0            0.05           6  Fog-Snow   \n",
       "17                9          12.0               T           2      Snow   \n",
       "18               10          11.0               0           1       NaN   \n",
       "19               10           6.0               0           2       NaN   \n",
       "20               10           6.0               0           1       NaN   \n",
       "21                9           NaN            0.01           3      Snow   \n",
       "22                1          16.0            2.31           8  Fog-Snow   \n",
       "23                8           6.0               T           3      Snow   \n",
       "24               10           3.0               0           2       NaN   \n",
       "25               10           7.0               0           2       NaN   \n",
       "26               10           7.0               T           3      Rain   \n",
       "27               10           5.0               0           1       NaN   \n",
       "28               10           8.0               0           4       NaN   \n",
       "29               10           7.0               0           0       NaN   \n",
       "30               10           5.0               0           0       NaN   \n",
       "\n",
       "    WindDirDegrees  \n",
       "1              275  \n",
       "2              277  \n",
       "3              345  \n",
       "4              333  \n",
       "5              259  \n",
       "6              293  \n",
       "7               79  \n",
       "8               76  \n",
       "9              109  \n",
       "10             289  \n",
       "11             235  \n",
       "12             284  \n",
       "13             266  \n",
       "14             101  \n",
       "15             340  \n",
       "16             345  \n",
       "17             293  \n",
       "18             293  \n",
       "19             302  \n",
       "20             312  \n",
       "21              34  \n",
       "22              42  \n",
       "23             327  \n",
       "24             286  \n",
       "25             244  \n",
       "26             311  \n",
       "27             234  \n",
       "28             298  \n",
       "29             257  \n",
       "30             241  "
      ]
     },
     "execution_count": 2,
     "metadata": {},
     "output_type": "execute_result"
    }
   ],
   "source": [
    "import pandas as pd\n",
    "df = pd.read_csv(\"C:\\\\Users\\\\Administrator\\\\Downloads\\\\nyc_weather.csv\")\n",
    "df.head(10)\n",
    "df.tail(30)"
   ]
  },
  {
   "cell_type": "code",
   "execution_count": 3,
   "id": "6680c390-9c77-45b3-9e34-7b73e819c62b",
   "metadata": {},
   "outputs": [
    {
     "data": {
      "text/plain": [
       "0          NaN\n",
       "1          NaN\n",
       "2          NaN\n",
       "3          NaN\n",
       "4          NaN\n",
       "5          NaN\n",
       "6          NaN\n",
       "7          NaN\n",
       "8         Rain\n",
       "9         Rain\n",
       "10         NaN\n",
       "11         NaN\n",
       "12         NaN\n",
       "13         NaN\n",
       "14         NaN\n",
       "15        Rain\n",
       "16    Fog-Snow\n",
       "17        Snow\n",
       "18         NaN\n",
       "19         NaN\n",
       "20         NaN\n",
       "21        Snow\n",
       "22    Fog-Snow\n",
       "23        Snow\n",
       "24         NaN\n",
       "25         NaN\n",
       "26        Rain\n",
       "27         NaN\n",
       "28         NaN\n",
       "29         NaN\n",
       "30         NaN\n",
       "Name: Events, dtype: object"
      ]
     },
     "execution_count": 3,
     "metadata": {},
     "output_type": "execute_result"
    }
   ],
   "source": [
    "df.Events"
   ]
  },
  {
   "cell_type": "code",
   "execution_count": 4,
   "id": "282522c9-8773-4e0e-a3bf-a3cc1a800fb4",
   "metadata": {},
   "outputs": [
    {
     "data": {
      "text/plain": [
       "0     52\n",
       "1     46\n",
       "2     47\n",
       "3     44\n",
       "4     41\n",
       "5     35\n",
       "6     33\n",
       "7     64\n",
       "8     77\n",
       "9     71\n",
       "10    37\n",
       "11    53\n",
       "12    42\n",
       "13    47\n",
       "14    62\n",
       "15    70\n",
       "16    66\n",
       "17    53\n",
       "18    42\n",
       "19    49\n",
       "20    45\n",
       "21    41\n",
       "22    78\n",
       "23    53\n",
       "24    54\n",
       "25    56\n",
       "26    45\n",
       "27    51\n",
       "28    50\n",
       "29    46\n",
       "30    52\n",
       "Name: Humidity, dtype: int64"
      ]
     },
     "execution_count": 4,
     "metadata": {},
     "output_type": "execute_result"
    }
   ],
   "source": [
    "df.Humidity"
   ]
  },
  {
   "cell_type": "code",
   "execution_count": 5,
   "id": "6312a3ed-121f-42d1-878b-ccb87027c24e",
   "metadata": {},
   "outputs": [
    {
     "data": {
      "text/plain": [
       "Index(['EST', 'Temperature', 'DewPoint', 'Humidity', 'Sea Level PressureIn',\n",
       "       'VisibilityMiles', 'WindSpeedMPH', 'PrecipitationIn', 'CloudCover',\n",
       "       'Events', 'WindDirDegrees'],\n",
       "      dtype='object')"
      ]
     },
     "execution_count": 5,
     "metadata": {},
     "output_type": "execute_result"
    }
   ],
   "source": [
    "df.columns"
   ]
  },
  {
   "cell_type": "code",
   "execution_count": 6,
   "id": "b4860eff-6f84-4d32-b98a-97153076a224",
   "metadata": {},
   "outputs": [
    {
     "data": {
      "text/plain": [
       "EST                     31\n",
       "Temperature             31\n",
       "DewPoint                31\n",
       "Humidity                31\n",
       "Sea Level PressureIn    31\n",
       "VisibilityMiles         31\n",
       "WindSpeedMPH            28\n",
       "PrecipitationIn         31\n",
       "CloudCover              31\n",
       "Events                   9\n",
       "WindDirDegrees          31\n",
       "dtype: int64"
      ]
     },
     "execution_count": 6,
     "metadata": {},
     "output_type": "execute_result"
    }
   ],
   "source": [
    "df.count()"
   ]
  },
  {
   "cell_type": "code",
   "execution_count": 7,
   "id": "0e2ead0f-0670-4cc5-9db5-db10f232d112",
   "metadata": {},
   "outputs": [
    {
     "data": {
      "text/plain": [
       "<bound method Series.count of 0     38\n",
       "1     36\n",
       "2     40\n",
       "3     25\n",
       "4     20\n",
       "5     33\n",
       "6     39\n",
       "7     39\n",
       "8     44\n",
       "9     50\n",
       "10    33\n",
       "11    35\n",
       "12    26\n",
       "13    30\n",
       "14    43\n",
       "15    47\n",
       "16    36\n",
       "17    25\n",
       "18    22\n",
       "19    32\n",
       "20    31\n",
       "21    26\n",
       "22    26\n",
       "23    28\n",
       "24    34\n",
       "25    43\n",
       "26    41\n",
       "27    37\n",
       "28    36\n",
       "29    34\n",
       "30    46\n",
       "Name: Temperature, dtype: int64>"
      ]
     },
     "execution_count": 7,
     "metadata": {},
     "output_type": "execute_result"
    }
   ],
   "source": [
    "df.Temperature.count"
   ]
  },
  {
   "cell_type": "code",
   "execution_count": 8,
   "id": "4385d25a-92bd-4bbd-b771-78b3b4ebe51c",
   "metadata": {},
   "outputs": [
    {
     "data": {
      "text/html": [
       "<div>\n",
       "<style scoped>\n",
       "    .dataframe tbody tr th:only-of-type {\n",
       "        vertical-align: middle;\n",
       "    }\n",
       "\n",
       "    .dataframe tbody tr th {\n",
       "        vertical-align: top;\n",
       "    }\n",
       "\n",
       "    .dataframe thead th {\n",
       "        text-align: right;\n",
       "    }\n",
       "</style>\n",
       "<table border=\"1\" class=\"dataframe\">\n",
       "  <thead>\n",
       "    <tr style=\"text-align: right;\">\n",
       "      <th></th>\n",
       "      <th>Temperature</th>\n",
       "      <th>DewPoint</th>\n",
       "      <th>Humidity</th>\n",
       "      <th>Sea Level PressureIn</th>\n",
       "      <th>VisibilityMiles</th>\n",
       "      <th>WindSpeedMPH</th>\n",
       "      <th>CloudCover</th>\n",
       "      <th>WindDirDegrees</th>\n",
       "    </tr>\n",
       "  </thead>\n",
       "  <tbody>\n",
       "    <tr>\n",
       "      <th>count</th>\n",
       "      <td>31.000000</td>\n",
       "      <td>31.000000</td>\n",
       "      <td>31.000000</td>\n",
       "      <td>31.000000</td>\n",
       "      <td>31.000000</td>\n",
       "      <td>28.000000</td>\n",
       "      <td>31.000000</td>\n",
       "      <td>31.000000</td>\n",
       "    </tr>\n",
       "    <tr>\n",
       "      <th>mean</th>\n",
       "      <td>34.677419</td>\n",
       "      <td>17.838710</td>\n",
       "      <td>51.677419</td>\n",
       "      <td>29.992903</td>\n",
       "      <td>9.193548</td>\n",
       "      <td>6.892857</td>\n",
       "      <td>3.129032</td>\n",
       "      <td>247.129032</td>\n",
       "    </tr>\n",
       "    <tr>\n",
       "      <th>std</th>\n",
       "      <td>7.639315</td>\n",
       "      <td>11.378626</td>\n",
       "      <td>11.634395</td>\n",
       "      <td>0.237237</td>\n",
       "      <td>1.939405</td>\n",
       "      <td>2.871821</td>\n",
       "      <td>2.629853</td>\n",
       "      <td>92.308086</td>\n",
       "    </tr>\n",
       "    <tr>\n",
       "      <th>min</th>\n",
       "      <td>20.000000</td>\n",
       "      <td>-3.000000</td>\n",
       "      <td>33.000000</td>\n",
       "      <td>29.520000</td>\n",
       "      <td>1.000000</td>\n",
       "      <td>2.000000</td>\n",
       "      <td>0.000000</td>\n",
       "      <td>34.000000</td>\n",
       "    </tr>\n",
       "    <tr>\n",
       "      <th>25%</th>\n",
       "      <td>29.000000</td>\n",
       "      <td>10.000000</td>\n",
       "      <td>44.500000</td>\n",
       "      <td>29.855000</td>\n",
       "      <td>9.000000</td>\n",
       "      <td>5.000000</td>\n",
       "      <td>1.000000</td>\n",
       "      <td>238.000000</td>\n",
       "    </tr>\n",
       "    <tr>\n",
       "      <th>50%</th>\n",
       "      <td>35.000000</td>\n",
       "      <td>18.000000</td>\n",
       "      <td>50.000000</td>\n",
       "      <td>30.010000</td>\n",
       "      <td>10.000000</td>\n",
       "      <td>6.500000</td>\n",
       "      <td>3.000000</td>\n",
       "      <td>281.000000</td>\n",
       "    </tr>\n",
       "    <tr>\n",
       "      <th>75%</th>\n",
       "      <td>39.500000</td>\n",
       "      <td>23.000000</td>\n",
       "      <td>55.000000</td>\n",
       "      <td>30.140000</td>\n",
       "      <td>10.000000</td>\n",
       "      <td>8.000000</td>\n",
       "      <td>4.500000</td>\n",
       "      <td>300.000000</td>\n",
       "    </tr>\n",
       "    <tr>\n",
       "      <th>max</th>\n",
       "      <td>50.000000</td>\n",
       "      <td>46.000000</td>\n",
       "      <td>78.000000</td>\n",
       "      <td>30.570000</td>\n",
       "      <td>10.000000</td>\n",
       "      <td>16.000000</td>\n",
       "      <td>8.000000</td>\n",
       "      <td>345.000000</td>\n",
       "    </tr>\n",
       "  </tbody>\n",
       "</table>\n",
       "</div>"
      ],
      "text/plain": [
       "       Temperature   DewPoint   Humidity  Sea Level PressureIn  \\\n",
       "count    31.000000  31.000000  31.000000             31.000000   \n",
       "mean     34.677419  17.838710  51.677419             29.992903   \n",
       "std       7.639315  11.378626  11.634395              0.237237   \n",
       "min      20.000000  -3.000000  33.000000             29.520000   \n",
       "25%      29.000000  10.000000  44.500000             29.855000   \n",
       "50%      35.000000  18.000000  50.000000             30.010000   \n",
       "75%      39.500000  23.000000  55.000000             30.140000   \n",
       "max      50.000000  46.000000  78.000000             30.570000   \n",
       "\n",
       "       VisibilityMiles  WindSpeedMPH  CloudCover  WindDirDegrees  \n",
       "count        31.000000     28.000000   31.000000       31.000000  \n",
       "mean          9.193548      6.892857    3.129032      247.129032  \n",
       "std           1.939405      2.871821    2.629853       92.308086  \n",
       "min           1.000000      2.000000    0.000000       34.000000  \n",
       "25%           9.000000      5.000000    1.000000      238.000000  \n",
       "50%          10.000000      6.500000    3.000000      281.000000  \n",
       "75%          10.000000      8.000000    4.500000      300.000000  \n",
       "max          10.000000     16.000000    8.000000      345.000000  "
      ]
     },
     "execution_count": 8,
     "metadata": {},
     "output_type": "execute_result"
    }
   ],
   "source": [
    "df.describe()"
   ]
  },
  {
   "cell_type": "code",
   "execution_count": 9,
   "id": "ac45f77c-1c7d-4e02-a4f4-1a74d6ff5f01",
   "metadata": {},
   "outputs": [
    {
     "data": {
      "text/plain": [
       "EST                      object\n",
       "Temperature               int64\n",
       "DewPoint                  int64\n",
       "Humidity                  int64\n",
       "Sea Level PressureIn    float64\n",
       "VisibilityMiles           int64\n",
       "WindSpeedMPH            float64\n",
       "PrecipitationIn          object\n",
       "CloudCover                int64\n",
       "Events                   object\n",
       "WindDirDegrees            int64\n",
       "dtype: object"
      ]
     },
     "execution_count": 9,
     "metadata": {},
     "output_type": "execute_result"
    }
   ],
   "source": [
    "df.dtypes"
   ]
  },
  {
   "cell_type": "code",
   "execution_count": 10,
   "id": "b7146b5f-6080-4bdc-9191-ac555179aa01",
   "metadata": {},
   "outputs": [
    {
     "data": {
      "text/plain": [
       "array([nan, 'Rain', 'Fog-Snow', 'Snow'], dtype=object)"
      ]
     },
     "execution_count": 10,
     "metadata": {},
     "output_type": "execute_result"
    }
   ],
   "source": [
    "df.Events.unique()"
   ]
  },
  {
   "cell_type": "code",
   "execution_count": 11,
   "id": "d70d3e78-8126-468a-ae3f-44562d32868f",
   "metadata": {},
   "outputs": [
    {
     "data": {
      "text/plain": [
       "count        9\n",
       "unique       3\n",
       "top       Rain\n",
       "freq         4\n",
       "Name: Events, dtype: object"
      ]
     },
     "execution_count": 11,
     "metadata": {},
     "output_type": "execute_result"
    }
   ],
   "source": [
    "df.Events.describe()"
   ]
  },
  {
   "cell_type": "code",
   "execution_count": 12,
   "id": "8d454dd6-1e5d-4fef-9a30-0d47337bb6ec",
   "metadata": {},
   "outputs": [
    {
     "data": {
      "text/plain": [
       "np.int64(50)"
      ]
     },
     "execution_count": 12,
     "metadata": {},
     "output_type": "execute_result"
    }
   ],
   "source": [
    "df['Temperature'].max()"
   ]
  },
  {
   "cell_type": "code",
   "execution_count": 13,
   "id": "22d96cff-22c9-42c9-b11a-a3c1170ed8da",
   "metadata": {},
   "outputs": [
    {
     "data": {
      "text/plain": [
       "np.int64(20)"
      ]
     },
     "execution_count": 13,
     "metadata": {},
     "output_type": "execute_result"
    }
   ],
   "source": [
    "df['Temperature'].min()"
   ]
  },
  {
   "cell_type": "code",
   "execution_count": 15,
   "id": "ffdedd73-bedf-485e-aa6a-f56a042fb04f",
   "metadata": {},
   "outputs": [
    {
     "data": {
      "text/plain": [
       "0      True\n",
       "1      True\n",
       "2      True\n",
       "3     False\n",
       "4     False\n",
       "5      True\n",
       "6      True\n",
       "7      True\n",
       "8      True\n",
       "9      True\n",
       "10     True\n",
       "11     True\n",
       "12    False\n",
       "13    False\n",
       "14     True\n",
       "15     True\n",
       "16     True\n",
       "17    False\n",
       "18    False\n",
       "19     True\n",
       "20     True\n",
       "21    False\n",
       "22    False\n",
       "23    False\n",
       "24     True\n",
       "25     True\n",
       "26     True\n",
       "27     True\n",
       "28     True\n",
       "29     True\n",
       "30     True\n",
       "Name: Temperature, dtype: bool"
      ]
     },
     "execution_count": 15,
     "metadata": {},
     "output_type": "execute_result"
    }
   ],
   "source": [
    "df1 = df['Temperature'] > 30\n",
    "df1"
   ]
  },
  {
   "cell_type": "code",
   "execution_count": 16,
   "id": "fe59a7c0-ef6d-488e-abfc-936a40365482",
   "metadata": {},
   "outputs": [
    {
     "data": {
      "text/plain": [
       "np.int64(22)"
      ]
     },
     "execution_count": 16,
     "metadata": {},
     "output_type": "execute_result"
    }
   ],
   "source": [
    "df1.sum()"
   ]
  },
  {
   "cell_type": "code",
   "execution_count": 19,
   "id": "5c052375-acba-42de-ba5a-cf1f50aa6b61",
   "metadata": {},
   "outputs": [
    {
     "data": {
      "text/plain": [
       "8      1/9/2016\n",
       "9     1/10/2016\n",
       "15    1/16/2016\n",
       "26    1/27/2016\n",
       "Name: EST, dtype: object"
      ]
     },
     "execution_count": 19,
     "metadata": {},
     "output_type": "execute_result"
    }
   ],
   "source": [
    "df['EST'][df['Events'] == 'Rain']"
   ]
  },
  {
   "cell_type": "code",
   "execution_count": 20,
   "id": "59e2b76b-11d9-4da9-888e-8d6f97e4f677",
   "metadata": {},
   "outputs": [
    {
     "data": {
      "text/plain": [
       "15    1/16/2016\n",
       "Name: EST, dtype: object"
      ]
     },
     "execution_count": 20,
     "metadata": {},
     "output_type": "execute_result"
    }
   ],
   "source": [
    "df['EST'][df['Humidity'] == 70]"
   ]
  },
  {
   "cell_type": "code",
   "execution_count": 22,
   "id": "415afe44-9078-4e9d-9e8b-832afdad8f3a",
   "metadata": {},
   "outputs": [
    {
     "data": {
      "text/plain": [
       "1      1/2/2016\n",
       "15    1/16/2016\n",
       "25    1/26/2016\n",
       "26    1/27/2016\n",
       "29    1/30/2016\n",
       "Name: EST, dtype: object"
      ]
     },
     "execution_count": 22,
     "metadata": {},
     "output_type": "execute_result"
    }
   ],
   "source": [
    "df['EST'][df['WindSpeedMPH'] == 7.0]"
   ]
  },
  {
   "cell_type": "code",
   "execution_count": 23,
   "id": "52a53361-3b3c-4150-9a12-371861f0953d",
   "metadata": {},
   "outputs": [
    {
     "data": {
      "text/plain": [
       "0      True\n",
       "1      True\n",
       "2      True\n",
       "3      True\n",
       "4      True\n",
       "5      True\n",
       "6      True\n",
       "7      True\n",
       "8     False\n",
       "9     False\n",
       "10     True\n",
       "11     True\n",
       "12     True\n",
       "13     True\n",
       "14     True\n",
       "15    False\n",
       "16    False\n",
       "17    False\n",
       "18     True\n",
       "19     True\n",
       "20     True\n",
       "21    False\n",
       "22    False\n",
       "23    False\n",
       "24     True\n",
       "25     True\n",
       "26    False\n",
       "27     True\n",
       "28     True\n",
       "29     True\n",
       "30     True\n",
       "Name: Events, dtype: bool"
      ]
     },
     "execution_count": 23,
     "metadata": {},
     "output_type": "execute_result"
    }
   ],
   "source": [
    "df.Events.isna()"
   ]
  },
  {
   "cell_type": "markdown",
   "id": "a2f6431f-2dbd-4163-bd27-fadda383e84f",
   "metadata": {},
   "source": [
    "#DATA STRUCTURES USING PANDAS"
   ]
  },
  {
   "cell_type": "code",
   "execution_count": 24,
   "id": "f68908aa-baea-4772-a932-40a6e955d014",
   "metadata": {},
   "outputs": [
    {
     "name": "stdout",
     "output_type": "stream",
     "text": [
      "0    10\n",
      "1    20\n",
      "2    30\n",
      "3    40\n",
      "4    50\n",
      "dtype: int64 <class 'pandas.core.series.Series'>\n"
     ]
    }
   ],
   "source": [
    "lst = [10,20,30,40,50]\n",
    "s = pd.Series(lst)\n",
    "print(s,type(s))"
   ]
  },
  {
   "cell_type": "code",
   "execution_count": 25,
   "id": "610e200f-ae99-4701-9c79-ac35df191f64",
   "metadata": {},
   "outputs": [
    {
     "name": "stdout",
     "output_type": "stream",
     "text": [
      "1st    1\n",
      "2      2\n",
      "3rd    3\n",
      "dtype: int64\n"
     ]
    }
   ],
   "source": [
    "l1 = [1,2,3]\n",
    "ser = pd.Series(l1,index=[\"1st\",2,\"3rd\"])\n",
    "print(ser)"
   ]
  },
  {
   "cell_type": "code",
   "execution_count": 26,
   "id": "e917898d-ca1b-4350-bc06-47f94ad63f42",
   "metadata": {},
   "outputs": [
    {
     "name": "stdout",
     "output_type": "stream",
     "text": [
      "1st    1\n",
      "2      2\n",
      "3rd    3\n",
      "Name: c1, dtype: int64\n"
     ]
    }
   ],
   "source": [
    "ser = pd.Series(l1,index=[\"1st\",2,\"3rd\"],name = \"c1\")\n",
    "print(ser)"
   ]
  },
  {
   "cell_type": "code",
   "execution_count": 28,
   "id": "63b3fd64-e021-497c-922b-b92d9272473c",
   "metadata": {},
   "outputs": [
    {
     "name": "stdout",
     "output_type": "stream",
     "text": [
      "0    10\n",
      "1    20\n",
      "2    30\n",
      "3    40\n",
      "4    50\n",
      "dtype: int64 <class 'pandas.core.series.Series'>\n"
     ]
    }
   ],
   "source": [
    "s = pd.Series([10,20,30,40,50])\n",
    "print(s,type(s))"
   ]
  },
  {
   "cell_type": "code",
   "execution_count": 29,
   "id": "27b4c8b0-fc48-4629-bb53-0da4aaeaec02",
   "metadata": {},
   "outputs": [
    {
     "name": "stdout",
     "output_type": "stream",
     "text": [
      "0    10\n",
      "1    20\n",
      "2    30\n",
      "3    40\n",
      "4    50\n",
      "dtype: int64\n"
     ]
    }
   ],
   "source": [
    "print(s.loc[0:4])"
   ]
  },
  {
   "cell_type": "code",
   "execution_count": 30,
   "id": "143a11bf-a877-4a97-8f4e-d66efdca6a06",
   "metadata": {},
   "outputs": [
    {
     "name": "stdout",
     "output_type": "stream",
     "text": [
      "0    1.0\n",
      "1    2.0\n",
      "2    3.0\n",
      "dtype: float32 <class 'pandas.core.series.Series'>\n"
     ]
    }
   ],
   "source": [
    "s = pd.Series(l1,dtype=\"float32\")\n",
    "print(s,type(s))"
   ]
  },
  {
   "cell_type": "code",
   "execution_count": 32,
   "id": "6574cdb2-b32a-49b1-9e35-209041eec8f9",
   "metadata": {},
   "outputs": [
    {
     "data": {
      "text/plain": [
       "np.float32(3.0)"
      ]
     },
     "execution_count": 32,
     "metadata": {},
     "output_type": "execute_result"
    }
   ],
   "source": [
    "s[2]"
   ]
  },
  {
   "cell_type": "code",
   "execution_count": 49,
   "id": "c85fa84a-a626-4686-9602-7eb9f5beab36",
   "metadata": {},
   "outputs": [
    {
     "data": {
      "text/plain": [
       "(3,)"
      ]
     },
     "execution_count": 49,
     "metadata": {},
     "output_type": "execute_result"
    }
   ],
   "source": [
    "s.shape"
   ]
  },
  {
   "cell_type": "code",
   "execution_count": 35,
   "id": "e62efa7e-f94e-47ba-b841-f8c40e08fcc9",
   "metadata": {},
   "outputs": [
    {
     "name": "stdout",
     "output_type": "stream",
     "text": [
      "bid                           10\n",
      "Book name    God of Small things\n",
      "Price                       80.0\n",
      "Author            Arunthathi Roy\n",
      "dtype: object <class 'pandas.core.series.Series'>\n"
     ]
    }
   ],
   "source": [
    "data = [10,\"God of Small things\",80.00,\"Arunthathi Roy\"]\n",
    "book = pd.Series(data,index=[\"bid\",\"Book name\",\"Price\",\"Author\"])\n",
    "print(book,type(book))"
   ]
  },
  {
   "cell_type": "code",
   "execution_count": 36,
   "id": "8b01b7f0-649d-439a-a510-ac05e48b0cad",
   "metadata": {},
   "outputs": [
    {
     "data": {
      "text/plain": [
       "10"
      ]
     },
     "execution_count": 36,
     "metadata": {},
     "output_type": "execute_result"
    }
   ],
   "source": [
    "book[\"bid\"]"
   ]
  },
  {
   "cell_type": "code",
   "execution_count": 37,
   "id": "4383442b-40fe-4cfb-9b38-5f8d1ffe8fb3",
   "metadata": {},
   "outputs": [
    {
     "name": "stdout",
     "output_type": "stream",
     "text": [
      "{'s1': 'C', 's2': 'Python', 's3': 'Java'} <class 'dict'>\n"
     ]
    }
   ],
   "source": [
    "dict1={\"s1\":\"C\",\"s2\":\"Python\",\"s3\":\"Java\"}\n",
    "print(dict1,type(dict1))"
   ]
  },
  {
   "cell_type": "code",
   "execution_count": 38,
   "id": "aabd205d-57de-42b5-a29e-168ee6825f03",
   "metadata": {},
   "outputs": [
    {
     "name": "stdout",
     "output_type": "stream",
     "text": [
      "s1         C\n",
      "s2    Python\n",
      "s3      Java\n",
      "dtype: object\n"
     ]
    }
   ],
   "source": [
    "s1 = pd.Series(dict1)\n",
    "print(s1)"
   ]
  },
  {
   "cell_type": "code",
   "execution_count": 39,
   "id": "7bc0e9e2-1424-40bb-9aaf-60c61f4a693f",
   "metadata": {},
   "outputs": [
    {
     "name": "stdout",
     "output_type": "stream",
     "text": [
      "<class 'pandas.core.series.Series'>\n"
     ]
    }
   ],
   "source": [
    "print(type(s1))"
   ]
  },
  {
   "cell_type": "code",
   "execution_count": 40,
   "id": "3f0a9744-cea2-4167-bc75-a7a8ebf03be8",
   "metadata": {},
   "outputs": [
    {
     "name": "stdout",
     "output_type": "stream",
     "text": [
      "0    [1, 0, 1, 3]\n",
      "1    [2, 3, 4, 5]\n",
      "2    [0, 9, 8, 7]\n",
      "dtype: object\n"
     ]
    }
   ],
   "source": [
    "lst = [[1,0,1,3],[2,3,4,5],[0,9,8,7]]\n",
    "df = pd.Series(lst)\n",
    "print(df)"
   ]
  },
  {
   "cell_type": "code",
   "execution_count": 41,
   "id": "5fd4f080-4a23-401e-9751-c7e670480f36",
   "metadata": {},
   "outputs": [
    {
     "name": "stdout",
     "output_type": "stream",
     "text": [
      "     0      1\n",
      "0  100  Helen\n",
      "1  101  Sahil\n",
      "2  102  Greta\n"
     ]
    }
   ],
   "source": [
    "student = [[100,\"Helen\"],[101,\"Sahil\"],[102,\"Greta\"]]\n",
    "df = pd.DataFrame(student)\n",
    "print(df)"
   ]
  },
  {
   "cell_type": "code",
   "execution_count": 44,
   "id": "f4594c37-5e03-4174-a93c-3cdd6f10af22",
   "metadata": {},
   "outputs": [
    {
     "data": {
      "text/html": [
       "<div>\n",
       "<style scoped>\n",
       "    .dataframe tbody tr th:only-of-type {\n",
       "        vertical-align: middle;\n",
       "    }\n",
       "\n",
       "    .dataframe tbody tr th {\n",
       "        vertical-align: top;\n",
       "    }\n",
       "\n",
       "    .dataframe thead th {\n",
       "        text-align: right;\n",
       "    }\n",
       "</style>\n",
       "<table border=\"1\" class=\"dataframe\">\n",
       "  <thead>\n",
       "    <tr style=\"text-align: right;\">\n",
       "      <th></th>\n",
       "      <th>0</th>\n",
       "      <th>1</th>\n",
       "    </tr>\n",
       "  </thead>\n",
       "  <tbody>\n",
       "    <tr>\n",
       "      <th>1</th>\n",
       "      <td>101</td>\n",
       "      <td>Sahil</td>\n",
       "    </tr>\n",
       "    <tr>\n",
       "      <th>2</th>\n",
       "      <td>102</td>\n",
       "      <td>Greta</td>\n",
       "    </tr>\n",
       "  </tbody>\n",
       "</table>\n",
       "</div>"
      ],
      "text/plain": [
       "     0      1\n",
       "1  101  Sahil\n",
       "2  102  Greta"
      ]
     },
     "execution_count": 44,
     "metadata": {},
     "output_type": "execute_result"
    }
   ],
   "source": [
    "df.iloc[1:,:]"
   ]
  },
  {
   "cell_type": "code",
   "execution_count": 46,
   "id": "8ff6f131-aadc-49c5-870a-aff171acd2ba",
   "metadata": {},
   "outputs": [
    {
     "data": {
      "text/plain": [
       "'Greta'"
      ]
     },
     "execution_count": 46,
     "metadata": {},
     "output_type": "execute_result"
    }
   ],
   "source": [
    "df.iloc[2,1]"
   ]
  },
  {
   "cell_type": "code",
   "execution_count": 47,
   "id": "127f8f93-a72e-41a1-a246-b0f93b3d5180",
   "metadata": {},
   "outputs": [
    {
     "name": "stdout",
     "output_type": "stream",
     "text": [
      "      student_id   Name\n",
      "S100         100  Helen\n",
      "S102         101  Sahil\n",
      "S103         102  Greta\n"
     ]
    }
   ],
   "source": [
    "df = pd.DataFrame(student,columns=[\"student_id\",\"Name\"],index=[\"S100\",\"S102\",\"S103\"])\n",
    "print(df)"
   ]
  },
  {
   "cell_type": "code",
   "execution_count": 56,
   "id": "c7520f74-814d-4ef5-87d7-8b649b673406",
   "metadata": {},
   "outputs": [
    {
     "name": "stdout",
     "output_type": "stream",
     "text": [
      "    Name  Age\n",
      "1  Grace   12\n",
      "2  Irene   11\n",
      "3  Jacob   10\n"
     ]
    }
   ],
   "source": [
    "student_tuple = ((\"Grace\",12),(\"Irene\",11),(\"Jacob\",10))\n",
    "df2 = pd.DataFrame(student_tuple, index=[1,2,3],columns=[\"Name\",\"Age\"])\n",
    "print(df2)"
   ]
  },
  {
   "cell_type": "code",
   "execution_count": 93,
   "id": "813ec9f8-7c0a-4a75-a80a-3964d9c0d8e0",
   "metadata": {},
   "outputs": [
    {
     "name": "stdout",
     "output_type": "stream",
     "text": [
      "    Name  Age  Subject\n",
      "1  Grace   12    Maths\n",
      "2  Irene   11  Science\n",
      "3  Jacob   10  English\n"
     ]
    }
   ],
   "source": [
    "df2[\"Subject\"]=['Maths','Science','English']\n",
    "print(df2)"
   ]
  },
  {
   "cell_type": "code",
   "execution_count": 94,
   "id": "ed862f55-e04a-4c8f-901c-aa704996205e",
   "metadata": {},
   "outputs": [
    {
     "name": "stdout",
     "output_type": "stream",
     "text": [
      "    Name  Age\n",
      "1  Grace   12\n",
      "2  Irene   11\n",
      "3  Jacob   10\n"
     ]
    }
   ],
   "source": [
    "df2.drop('Subject',axis=1,inplace=True)\n",
    "print(df2)"
   ]
  },
  {
   "cell_type": "code",
   "execution_count": 61,
   "id": "3f1a0fed-049b-4fef-b381-34992335b1e6",
   "metadata": {},
   "outputs": [
    {
     "name": "stdout",
     "output_type": "stream",
     "text": [
      "{'Book_name': ['Atomic Habits', 'The Art of Laziness', 'Harry Potter'], 'Price': [200, 300, 400]}\n"
     ]
    }
   ],
   "source": [
    "dict_data = {\"Book_name\":[\"Atomic Habits\",\"The Art of Laziness\",\"Harry Potter\"],\"Price\":[200,300,400]}\n",
    "print(dict_data)"
   ]
  },
  {
   "cell_type": "code",
   "execution_count": 62,
   "id": "2ae0c996-a02f-44ce-b21a-79b06e24680b",
   "metadata": {},
   "outputs": [
    {
     "name": "stdout",
     "output_type": "stream",
     "text": [
      "             Book_name  Price\n",
      "0        Atomic Habits    200\n",
      "1  The Art of Laziness    300\n",
      "2         Harry Potter    400\n"
     ]
    }
   ],
   "source": [
    "df3=pd.DataFrame(dict_data)\n",
    "print(df3)"
   ]
  },
  {
   "cell_type": "code",
   "execution_count": 63,
   "id": "7eff2431-5ed5-411c-9f8d-d6db857f2638",
   "metadata": {},
   "outputs": [
    {
     "data": {
      "text/plain": [
       "(3, 2)"
      ]
     },
     "execution_count": 63,
     "metadata": {},
     "output_type": "execute_result"
    }
   ],
   "source": [
    "df3.shape"
   ]
  },
  {
   "cell_type": "code",
   "execution_count": 64,
   "id": "8089132f-5ec1-4c88-a23c-01d99bf89f44",
   "metadata": {},
   "outputs": [
    {
     "name": "stdout",
     "output_type": "stream",
     "text": [
      "             Book_name  Price\n",
      "a        Atomic Habits    200\n",
      "b  The Art of Laziness    300\n",
      "c         Harry Potter    400\n"
     ]
    }
   ],
   "source": [
    "df3=pd.DataFrame(dict_data,index=['a','b','c'])\n",
    "print(df3)"
   ]
  },
  {
   "cell_type": "code",
   "execution_count": 65,
   "id": "1c5d4bc4-73c6-47b0-8a53-1e2db4c2913d",
   "metadata": {},
   "outputs": [
    {
     "name": "stdout",
     "output_type": "stream",
     "text": [
      "0             English\n",
      "1               Maths\n",
      "2    Computer Science\n",
      "dtype: object\n"
     ]
    }
   ],
   "source": [
    "subjects = [\"English\",\"Maths\",\"Computer Science\"]\n",
    "sub = pd.Series(subjects)\n",
    "print(sub)"
   ]
  },
  {
   "cell_type": "code",
   "execution_count": 67,
   "id": "443ba1d8-d62e-4a30-a3cb-2a70775761cf",
   "metadata": {},
   "outputs": [
    {
     "name": "stdout",
     "output_type": "stream",
     "text": [
      "               name\n",
      "0           English\n",
      "1             Maths\n",
      "2  Computer Science\n"
     ]
    }
   ],
   "source": [
    "df4=pd.DataFrame(subjects,columns=[\"name\"])\n",
    "print(df4)"
   ]
  },
  {
   "cell_type": "code",
   "execution_count": 68,
   "id": "f753ad08-2c52-4224-83d3-3e403de5112e",
   "metadata": {},
   "outputs": [
    {
     "data": {
      "text/plain": [
       "(3, 1)"
      ]
     },
     "execution_count": 68,
     "metadata": {},
     "output_type": "execute_result"
    }
   ],
   "source": [
    "df4.shape"
   ]
  },
  {
   "cell_type": "code",
   "execution_count": 73,
   "id": "5f9e971d-9897-457f-9547-e778b7f1cbd7",
   "metadata": {},
   "outputs": [
    {
     "name": "stdout",
     "output_type": "stream",
     "text": [
      "             Book_name  Price\n",
      "0        Atomic Habits    200\n",
      "1  The Art of Laziness    300\n",
      "2         Harry Potter    400\n"
     ]
    }
   ],
   "source": [
    "df3=pd.DataFrame(dict_data)\n",
    "print(df3)"
   ]
  },
  {
   "cell_type": "code",
   "execution_count": 74,
   "id": "3513cba9-a7a6-434f-88f7-2b78b989b4a8",
   "metadata": {},
   "outputs": [
    {
     "name": "stdout",
     "output_type": "stream",
     "text": [
      "             Book_name  Price  GST\n",
      "0        Atomic Habits    200    2\n",
      "1  The Art of Laziness    300    4\n",
      "2         Harry Potter    400    5\n"
     ]
    }
   ],
   "source": [
    "df3['GST']=[2,4,5]\n",
    "print(df3)"
   ]
  },
  {
   "cell_type": "code",
   "execution_count": 75,
   "id": "eddfb5c3-989f-4462-b037-526673503d16",
   "metadata": {},
   "outputs": [
    {
     "name": "stdout",
     "output_type": "stream",
     "text": [
      "             Book_name  Price  GST  Total Price\n",
      "0        Atomic Habits    200    2          202\n",
      "1  The Art of Laziness    300    4          304\n",
      "2         Harry Potter    400    5          405\n"
     ]
    }
   ],
   "source": [
    "df3['Total Price']=df3[\"Price\"]+df3[\"GST\"]\n",
    "print(df3)"
   ]
  },
  {
   "cell_type": "code",
   "execution_count": 99,
   "id": "b17835f3-a4c8-435c-bca5-7e71119d0556",
   "metadata": {},
   "outputs": [],
   "source": [
    "df3['Book_id']=range(1,4)"
   ]
  },
  {
   "cell_type": "code",
   "execution_count": 100,
   "id": "5bcaf0b4-cc54-4e44-8ac8-76d301423592",
   "metadata": {},
   "outputs": [
    {
     "name": "stdout",
     "output_type": "stream",
     "text": [
      "             Book_name  Price  GST  Total Price  Book_id\n",
      "0        Atomic Habits    200    2          202        1\n",
      "1  The Art of Laziness    300    4          304        2\n",
      "2         Harry Potter    400    5          405        3\n"
     ]
    }
   ],
   "source": [
    "print(df3)"
   ]
  },
  {
   "cell_type": "code",
   "execution_count": 82,
   "id": "5d8ceac6-3d44-4a39-a61a-d897a6bdae12",
   "metadata": {},
   "outputs": [],
   "source": [
    "#sorting\n",
    "df = df.sort_values([\"Name\"],ascending = True)"
   ]
  },
  {
   "cell_type": "code",
   "execution_count": 83,
   "id": "720c1ed2-b08f-49ca-8c9d-6ae6676e607d",
   "metadata": {},
   "outputs": [
    {
     "name": "stdout",
     "output_type": "stream",
     "text": [
      "      student_id   Name\n",
      "S103         102  Greta\n",
      "S100         100  Helen\n",
      "S102         101  Sahil\n"
     ]
    }
   ],
   "source": [
    "print(df)"
   ]
  },
  {
   "cell_type": "code",
   "execution_count": 86,
   "id": "1f2d18ce-720c-4262-9c12-3ea54e38cab8",
   "metadata": {},
   "outputs": [],
   "source": [
    "df = df.sort_values([\"student_id\"],ascending = False) # descending"
   ]
  },
  {
   "cell_type": "code",
   "execution_count": 87,
   "id": "763a1f72-118a-4d0f-8626-8ecf807f393f",
   "metadata": {},
   "outputs": [
    {
     "name": "stdout",
     "output_type": "stream",
     "text": [
      "      student_id   Name\n",
      "S103         102  Greta\n",
      "S102         101  Sahil\n",
      "S100         100  Helen\n"
     ]
    }
   ],
   "source": [
    "print(df)"
   ]
  },
  {
   "cell_type": "raw",
   "id": "86157b6f-e5a1-478e-97cf-66cde1ae3056",
   "metadata": {},
   "source": [
    "IPL_MATCHES 2008-2020"
   ]
  },
  {
   "cell_type": "code",
   "execution_count": 88,
   "id": "72c5d218-c7ee-4cbb-9ccf-f105f8e16ae3",
   "metadata": {},
   "outputs": [],
   "source": [
    "import pandas as pd\n",
    "\n",
    "ipl=pd.read_csv(\"C:\\\\Users\\\\Administrator\\\\Downloads\\\\IPL Matches 2008-2020.csv\")"
   ]
  },
  {
   "cell_type": "code",
   "execution_count": 89,
   "id": "cdbc9dab-1391-4810-838e-beb92f9cdec2",
   "metadata": {},
   "outputs": [
    {
     "name": "stdout",
     "output_type": "stream",
     "text": [
      "          id        city        date player_of_match  \\\n",
      "0     335982   Bangalore  2008-04-18     BB McCullum   \n",
      "1     335983  Chandigarh  2008-04-19      MEK Hussey   \n",
      "2     335984       Delhi  2008-04-19     MF Maharoof   \n",
      "3     335985      Mumbai  2008-04-20      MV Boucher   \n",
      "4     335986     Kolkata  2008-04-20       DJ Hussey   \n",
      "..       ...         ...         ...             ...   \n",
      "811  1216547       Dubai  2020-09-28  AB de Villiers   \n",
      "812  1237177       Dubai  2020-11-05       JJ Bumrah   \n",
      "813  1237178   Abu Dhabi  2020-11-06   KS Williamson   \n",
      "814  1237180   Abu Dhabi  2020-11-08      MP Stoinis   \n",
      "815  1237181       Dubai  2020-11-10        TA Boult   \n",
      "\n",
      "                                          venue  neutral_venue  \\\n",
      "0                         M Chinnaswamy Stadium              0   \n",
      "1    Punjab Cricket Association Stadium, Mohali              0   \n",
      "2                              Feroz Shah Kotla              0   \n",
      "3                              Wankhede Stadium              0   \n",
      "4                                  Eden Gardens              0   \n",
      "..                                          ...            ...   \n",
      "811         Dubai International Cricket Stadium              0   \n",
      "812         Dubai International Cricket Stadium              0   \n",
      "813                        Sheikh Zayed Stadium              0   \n",
      "814                        Sheikh Zayed Stadium              0   \n",
      "815         Dubai International Cricket Stadium              0   \n",
      "\n",
      "                           team1                        team2  \\\n",
      "0    Royal Challengers Bangalore        Kolkata Knight Riders   \n",
      "1                Kings XI Punjab          Chennai Super Kings   \n",
      "2               Delhi Daredevils             Rajasthan Royals   \n",
      "3                 Mumbai Indians  Royal Challengers Bangalore   \n",
      "4          Kolkata Knight Riders              Deccan Chargers   \n",
      "..                           ...                          ...   \n",
      "811  Royal Challengers Bangalore               Mumbai Indians   \n",
      "812               Mumbai Indians               Delhi Capitals   \n",
      "813  Royal Challengers Bangalore          Sunrisers Hyderabad   \n",
      "814               Delhi Capitals          Sunrisers Hyderabad   \n",
      "815               Delhi Capitals               Mumbai Indians   \n",
      "\n",
      "                     toss_winner toss_decision                       winner  \\\n",
      "0    Royal Challengers Bangalore         field        Kolkata Knight Riders   \n",
      "1            Chennai Super Kings           bat          Chennai Super Kings   \n",
      "2               Rajasthan Royals           bat             Delhi Daredevils   \n",
      "3                 Mumbai Indians           bat  Royal Challengers Bangalore   \n",
      "4                Deccan Chargers           bat        Kolkata Knight Riders   \n",
      "..                           ...           ...                          ...   \n",
      "811               Mumbai Indians         field  Royal Challengers Bangalore   \n",
      "812               Delhi Capitals         field               Mumbai Indians   \n",
      "813          Sunrisers Hyderabad         field          Sunrisers Hyderabad   \n",
      "814               Delhi Capitals           bat               Delhi Capitals   \n",
      "815               Delhi Capitals           bat               Mumbai Indians   \n",
      "\n",
      "      result  result_margin eliminator method      umpire1         umpire2  \n",
      "0       runs          140.0          N    NaN    Asad Rauf     RE Koertzen  \n",
      "1       runs           33.0          N    NaN    MR Benson      SL Shastri  \n",
      "2    wickets            9.0          N    NaN    Aleem Dar  GA Pratapkumar  \n",
      "3    wickets            5.0          N    NaN     SJ Davis       DJ Harper  \n",
      "4    wickets            5.0          N    NaN    BF Bowden     K Hariharan  \n",
      "..       ...            ...        ...    ...          ...             ...  \n",
      "811      tie            NaN          Y    NaN  Nitin Menon      PR Reiffel  \n",
      "812     runs           57.0          N    NaN  CB Gaffaney     Nitin Menon  \n",
      "813  wickets            6.0          N    NaN   PR Reiffel          S Ravi  \n",
      "814     runs           17.0          N    NaN   PR Reiffel          S Ravi  \n",
      "815  wickets            5.0          N    NaN  CB Gaffaney     Nitin Menon  \n",
      "\n",
      "[816 rows x 17 columns]\n"
     ]
    }
   ],
   "source": [
    "print(ipl)"
   ]
  },
  {
   "cell_type": "code",
   "execution_count": 90,
   "id": "465e7567-29bb-4604-9e4c-c27b3af2ba2f",
   "metadata": {},
   "outputs": [
    {
     "data": {
      "text/html": [
       "<div>\n",
       "<style scoped>\n",
       "    .dataframe tbody tr th:only-of-type {\n",
       "        vertical-align: middle;\n",
       "    }\n",
       "\n",
       "    .dataframe tbody tr th {\n",
       "        vertical-align: top;\n",
       "    }\n",
       "\n",
       "    .dataframe thead th {\n",
       "        text-align: right;\n",
       "    }\n",
       "</style>\n",
       "<table border=\"1\" class=\"dataframe\">\n",
       "  <thead>\n",
       "    <tr style=\"text-align: right;\">\n",
       "      <th></th>\n",
       "      <th>id</th>\n",
       "      <th>city</th>\n",
       "      <th>date</th>\n",
       "      <th>player_of_match</th>\n",
       "      <th>venue</th>\n",
       "      <th>neutral_venue</th>\n",
       "      <th>team1</th>\n",
       "      <th>team2</th>\n",
       "      <th>toss_winner</th>\n",
       "      <th>toss_decision</th>\n",
       "      <th>winner</th>\n",
       "      <th>result</th>\n",
       "      <th>result_margin</th>\n",
       "      <th>eliminator</th>\n",
       "      <th>method</th>\n",
       "      <th>umpire1</th>\n",
       "      <th>umpire2</th>\n",
       "    </tr>\n",
       "  </thead>\n",
       "  <tbody>\n",
       "    <tr>\n",
       "      <th>786</th>\n",
       "      <td>1216522</td>\n",
       "      <td>Dubai</td>\n",
       "      <td>2020-10-17</td>\n",
       "      <td>AB de Villiers</td>\n",
       "      <td>Dubai International Cricket Stadium</td>\n",
       "      <td>0</td>\n",
       "      <td>Rajasthan Royals</td>\n",
       "      <td>Royal Challengers Bangalore</td>\n",
       "      <td>Rajasthan Royals</td>\n",
       "      <td>bat</td>\n",
       "      <td>Royal Challengers Bangalore</td>\n",
       "      <td>wickets</td>\n",
       "      <td>7.0</td>\n",
       "      <td>N</td>\n",
       "      <td>NaN</td>\n",
       "      <td>AK Chaudhary</td>\n",
       "      <td>Nitin Menon</td>\n",
       "    </tr>\n",
       "    <tr>\n",
       "      <th>787</th>\n",
       "      <td>1216523</td>\n",
       "      <td>Abu Dhabi</td>\n",
       "      <td>2020-10-10</td>\n",
       "      <td>KD Karthik</td>\n",
       "      <td>Sheikh Zayed Stadium</td>\n",
       "      <td>0</td>\n",
       "      <td>Kolkata Knight Riders</td>\n",
       "      <td>Kings XI Punjab</td>\n",
       "      <td>Kolkata Knight Riders</td>\n",
       "      <td>bat</td>\n",
       "      <td>Kolkata Knight Riders</td>\n",
       "      <td>runs</td>\n",
       "      <td>2.0</td>\n",
       "      <td>N</td>\n",
       "      <td>NaN</td>\n",
       "      <td>UV Gandhe</td>\n",
       "      <td>CB Gaffaney</td>\n",
       "    </tr>\n",
       "    <tr>\n",
       "      <th>788</th>\n",
       "      <td>1216524</td>\n",
       "      <td>Dubai</td>\n",
       "      <td>2020-10-27</td>\n",
       "      <td>WP Saha</td>\n",
       "      <td>Dubai International Cricket Stadium</td>\n",
       "      <td>0</td>\n",
       "      <td>Sunrisers Hyderabad</td>\n",
       "      <td>Delhi Capitals</td>\n",
       "      <td>Delhi Capitals</td>\n",
       "      <td>field</td>\n",
       "      <td>Sunrisers Hyderabad</td>\n",
       "      <td>runs</td>\n",
       "      <td>88.0</td>\n",
       "      <td>N</td>\n",
       "      <td>NaN</td>\n",
       "      <td>AK Chaudhary</td>\n",
       "      <td>Nitin Menon</td>\n",
       "    </tr>\n",
       "    <tr>\n",
       "      <th>789</th>\n",
       "      <td>1216525</td>\n",
       "      <td>Dubai</td>\n",
       "      <td>2020-10-10</td>\n",
       "      <td>V Kohli</td>\n",
       "      <td>Dubai International Cricket Stadium</td>\n",
       "      <td>0</td>\n",
       "      <td>Royal Challengers Bangalore</td>\n",
       "      <td>Chennai Super Kings</td>\n",
       "      <td>Royal Challengers Bangalore</td>\n",
       "      <td>bat</td>\n",
       "      <td>Royal Challengers Bangalore</td>\n",
       "      <td>runs</td>\n",
       "      <td>37.0</td>\n",
       "      <td>N</td>\n",
       "      <td>NaN</td>\n",
       "      <td>AK Chaudhary</td>\n",
       "      <td>PR Reiffel</td>\n",
       "    </tr>\n",
       "    <tr>\n",
       "      <th>790</th>\n",
       "      <td>1216526</td>\n",
       "      <td>Abu Dhabi</td>\n",
       "      <td>2020-10-16</td>\n",
       "      <td>Q de Kock</td>\n",
       "      <td>Sheikh Zayed Stadium</td>\n",
       "      <td>0</td>\n",
       "      <td>Kolkata Knight Riders</td>\n",
       "      <td>Mumbai Indians</td>\n",
       "      <td>Kolkata Knight Riders</td>\n",
       "      <td>bat</td>\n",
       "      <td>Mumbai Indians</td>\n",
       "      <td>wickets</td>\n",
       "      <td>8.0</td>\n",
       "      <td>N</td>\n",
       "      <td>NaN</td>\n",
       "      <td>CB Gaffaney</td>\n",
       "      <td>VK Sharma</td>\n",
       "    </tr>\n",
       "    <tr>\n",
       "      <th>791</th>\n",
       "      <td>1216527</td>\n",
       "      <td>Sharjah</td>\n",
       "      <td>2020-09-27</td>\n",
       "      <td>SV Samson</td>\n",
       "      <td>Sharjah Cricket Stadium</td>\n",
       "      <td>0</td>\n",
       "      <td>Kings XI Punjab</td>\n",
       "      <td>Rajasthan Royals</td>\n",
       "      <td>Rajasthan Royals</td>\n",
       "      <td>field</td>\n",
       "      <td>Rajasthan Royals</td>\n",
       "      <td>wickets</td>\n",
       "      <td>4.0</td>\n",
       "      <td>N</td>\n",
       "      <td>NaN</td>\n",
       "      <td>RK Illingworth</td>\n",
       "      <td>K Srinivasan</td>\n",
       "    </tr>\n",
       "    <tr>\n",
       "      <th>792</th>\n",
       "      <td>1216528</td>\n",
       "      <td>Dubai</td>\n",
       "      <td>2020-10-13</td>\n",
       "      <td>RA Jadeja</td>\n",
       "      <td>Dubai International Cricket Stadium</td>\n",
       "      <td>0</td>\n",
       "      <td>Chennai Super Kings</td>\n",
       "      <td>Sunrisers Hyderabad</td>\n",
       "      <td>Chennai Super Kings</td>\n",
       "      <td>bat</td>\n",
       "      <td>Chennai Super Kings</td>\n",
       "      <td>runs</td>\n",
       "      <td>20.0</td>\n",
       "      <td>N</td>\n",
       "      <td>NaN</td>\n",
       "      <td>AK Chaudhary</td>\n",
       "      <td>PR Reiffel</td>\n",
       "    </tr>\n",
       "    <tr>\n",
       "      <th>793</th>\n",
       "      <td>1216529</td>\n",
       "      <td>Abu Dhabi</td>\n",
       "      <td>2020-10-11</td>\n",
       "      <td>Q de Kock</td>\n",
       "      <td>Sheikh Zayed Stadium</td>\n",
       "      <td>0</td>\n",
       "      <td>Delhi Capitals</td>\n",
       "      <td>Mumbai Indians</td>\n",
       "      <td>Delhi Capitals</td>\n",
       "      <td>bat</td>\n",
       "      <td>Mumbai Indians</td>\n",
       "      <td>wickets</td>\n",
       "      <td>5.0</td>\n",
       "      <td>N</td>\n",
       "      <td>NaN</td>\n",
       "      <td>CB Gaffaney</td>\n",
       "      <td>S Ravi</td>\n",
       "    </tr>\n",
       "    <tr>\n",
       "      <th>794</th>\n",
       "      <td>1216530</td>\n",
       "      <td>Dubai</td>\n",
       "      <td>2020-11-01</td>\n",
       "      <td>PJ Cummins</td>\n",
       "      <td>Dubai International Cricket Stadium</td>\n",
       "      <td>0</td>\n",
       "      <td>Kolkata Knight Riders</td>\n",
       "      <td>Rajasthan Royals</td>\n",
       "      <td>Rajasthan Royals</td>\n",
       "      <td>field</td>\n",
       "      <td>Kolkata Knight Riders</td>\n",
       "      <td>runs</td>\n",
       "      <td>60.0</td>\n",
       "      <td>N</td>\n",
       "      <td>NaN</td>\n",
       "      <td>Nitin Menon</td>\n",
       "      <td>PR Reiffel</td>\n",
       "    </tr>\n",
       "    <tr>\n",
       "      <th>795</th>\n",
       "      <td>1216531</td>\n",
       "      <td>Sharjah</td>\n",
       "      <td>2020-10-15</td>\n",
       "      <td>KL Rahul</td>\n",
       "      <td>Sharjah Cricket Stadium</td>\n",
       "      <td>0</td>\n",
       "      <td>Royal Challengers Bangalore</td>\n",
       "      <td>Kings XI Punjab</td>\n",
       "      <td>Royal Challengers Bangalore</td>\n",
       "      <td>bat</td>\n",
       "      <td>Kings XI Punjab</td>\n",
       "      <td>wickets</td>\n",
       "      <td>8.0</td>\n",
       "      <td>N</td>\n",
       "      <td>NaN</td>\n",
       "      <td>KN Ananthapadmanabhan</td>\n",
       "      <td>C Shamshuddin</td>\n",
       "    </tr>\n",
       "    <tr>\n",
       "      <th>796</th>\n",
       "      <td>1216532</td>\n",
       "      <td>Abu Dhabi</td>\n",
       "      <td>2020-09-29</td>\n",
       "      <td>Rashid Khan</td>\n",
       "      <td>Sheikh Zayed Stadium</td>\n",
       "      <td>0</td>\n",
       "      <td>Sunrisers Hyderabad</td>\n",
       "      <td>Delhi Capitals</td>\n",
       "      <td>Delhi Capitals</td>\n",
       "      <td>field</td>\n",
       "      <td>Sunrisers Hyderabad</td>\n",
       "      <td>runs</td>\n",
       "      <td>15.0</td>\n",
       "      <td>N</td>\n",
       "      <td>NaN</td>\n",
       "      <td>VK Sharma</td>\n",
       "      <td>S Ravi</td>\n",
       "    </tr>\n",
       "    <tr>\n",
       "      <th>797</th>\n",
       "      <td>1216533</td>\n",
       "      <td>Abu Dhabi</td>\n",
       "      <td>2020-10-19</td>\n",
       "      <td>JC Buttler</td>\n",
       "      <td>Sheikh Zayed Stadium</td>\n",
       "      <td>0</td>\n",
       "      <td>Chennai Super Kings</td>\n",
       "      <td>Rajasthan Royals</td>\n",
       "      <td>Chennai Super Kings</td>\n",
       "      <td>bat</td>\n",
       "      <td>Rajasthan Royals</td>\n",
       "      <td>wickets</td>\n",
       "      <td>7.0</td>\n",
       "      <td>N</td>\n",
       "      <td>NaN</td>\n",
       "      <td>CB Gaffaney</td>\n",
       "      <td>VK Sharma</td>\n",
       "    </tr>\n",
       "    <tr>\n",
       "      <th>798</th>\n",
       "      <td>1216534</td>\n",
       "      <td>Dubai</td>\n",
       "      <td>2020-09-21</td>\n",
       "      <td>YS Chahal</td>\n",
       "      <td>Dubai International Cricket Stadium</td>\n",
       "      <td>0</td>\n",
       "      <td>Royal Challengers Bangalore</td>\n",
       "      <td>Sunrisers Hyderabad</td>\n",
       "      <td>Sunrisers Hyderabad</td>\n",
       "      <td>field</td>\n",
       "      <td>Royal Challengers Bangalore</td>\n",
       "      <td>runs</td>\n",
       "      <td>10.0</td>\n",
       "      <td>N</td>\n",
       "      <td>NaN</td>\n",
       "      <td>AY Dandekar</td>\n",
       "      <td>Nitin Menon</td>\n",
       "    </tr>\n",
       "    <tr>\n",
       "      <th>799</th>\n",
       "      <td>1216535</td>\n",
       "      <td>Dubai</td>\n",
       "      <td>2020-10-31</td>\n",
       "      <td>Ishan Kishan</td>\n",
       "      <td>Dubai International Cricket Stadium</td>\n",
       "      <td>0</td>\n",
       "      <td>Delhi Capitals</td>\n",
       "      <td>Mumbai Indians</td>\n",
       "      <td>Mumbai Indians</td>\n",
       "      <td>field</td>\n",
       "      <td>Mumbai Indians</td>\n",
       "      <td>wickets</td>\n",
       "      <td>9.0</td>\n",
       "      <td>N</td>\n",
       "      <td>NaN</td>\n",
       "      <td>YC Barde</td>\n",
       "      <td>PR Reiffel</td>\n",
       "    </tr>\n",
       "    <tr>\n",
       "      <th>800</th>\n",
       "      <td>1216536</td>\n",
       "      <td>Dubai</td>\n",
       "      <td>2020-10-29</td>\n",
       "      <td>RD Gaikwad</td>\n",
       "      <td>Dubai International Cricket Stadium</td>\n",
       "      <td>0</td>\n",
       "      <td>Kolkata Knight Riders</td>\n",
       "      <td>Chennai Super Kings</td>\n",
       "      <td>Chennai Super Kings</td>\n",
       "      <td>field</td>\n",
       "      <td>Chennai Super Kings</td>\n",
       "      <td>wickets</td>\n",
       "      <td>6.0</td>\n",
       "      <td>N</td>\n",
       "      <td>NaN</td>\n",
       "      <td>C Shamshuddin</td>\n",
       "      <td>RK Illingworth</td>\n",
       "    </tr>\n",
       "    <tr>\n",
       "      <th>801</th>\n",
       "      <td>1216537</td>\n",
       "      <td>Abu Dhabi</td>\n",
       "      <td>2020-10-30</td>\n",
       "      <td>BA Stokes</td>\n",
       "      <td>Sheikh Zayed Stadium</td>\n",
       "      <td>0</td>\n",
       "      <td>Kings XI Punjab</td>\n",
       "      <td>Rajasthan Royals</td>\n",
       "      <td>Rajasthan Royals</td>\n",
       "      <td>field</td>\n",
       "      <td>Rajasthan Royals</td>\n",
       "      <td>wickets</td>\n",
       "      <td>7.0</td>\n",
       "      <td>N</td>\n",
       "      <td>NaN</td>\n",
       "      <td>CB Gaffaney</td>\n",
       "      <td>S Ravi</td>\n",
       "    </tr>\n",
       "    <tr>\n",
       "      <th>802</th>\n",
       "      <td>1216538</td>\n",
       "      <td>Sharjah</td>\n",
       "      <td>2020-10-04</td>\n",
       "      <td>TA Boult</td>\n",
       "      <td>Sharjah Cricket Stadium</td>\n",
       "      <td>0</td>\n",
       "      <td>Mumbai Indians</td>\n",
       "      <td>Sunrisers Hyderabad</td>\n",
       "      <td>Mumbai Indians</td>\n",
       "      <td>bat</td>\n",
       "      <td>Mumbai Indians</td>\n",
       "      <td>runs</td>\n",
       "      <td>34.0</td>\n",
       "      <td>N</td>\n",
       "      <td>NaN</td>\n",
       "      <td>KN Ananthapadmanabhan</td>\n",
       "      <td>RK Illingworth</td>\n",
       "    </tr>\n",
       "    <tr>\n",
       "      <th>803</th>\n",
       "      <td>1216539</td>\n",
       "      <td>Dubai</td>\n",
       "      <td>2020-09-25</td>\n",
       "      <td>PP Shaw</td>\n",
       "      <td>Dubai International Cricket Stadium</td>\n",
       "      <td>0</td>\n",
       "      <td>Delhi Capitals</td>\n",
       "      <td>Chennai Super Kings</td>\n",
       "      <td>Chennai Super Kings</td>\n",
       "      <td>field</td>\n",
       "      <td>Delhi Capitals</td>\n",
       "      <td>runs</td>\n",
       "      <td>44.0</td>\n",
       "      <td>N</td>\n",
       "      <td>NaN</td>\n",
       "      <td>KN Ananthapadmanabhan</td>\n",
       "      <td>RK Illingworth</td>\n",
       "    </tr>\n",
       "    <tr>\n",
       "      <th>804</th>\n",
       "      <td>1216540</td>\n",
       "      <td>Sharjah</td>\n",
       "      <td>2020-10-12</td>\n",
       "      <td>AB de Villiers</td>\n",
       "      <td>Sharjah Cricket Stadium</td>\n",
       "      <td>0</td>\n",
       "      <td>Royal Challengers Bangalore</td>\n",
       "      <td>Kolkata Knight Riders</td>\n",
       "      <td>Royal Challengers Bangalore</td>\n",
       "      <td>bat</td>\n",
       "      <td>Royal Challengers Bangalore</td>\n",
       "      <td>runs</td>\n",
       "      <td>82.0</td>\n",
       "      <td>N</td>\n",
       "      <td>NaN</td>\n",
       "      <td>RK Illingworth</td>\n",
       "      <td>K Srinivasan</td>\n",
       "    </tr>\n",
       "    <tr>\n",
       "      <th>805</th>\n",
       "      <td>1216541</td>\n",
       "      <td>Abu Dhabi</td>\n",
       "      <td>2020-10-25</td>\n",
       "      <td>BA Stokes</td>\n",
       "      <td>Sheikh Zayed Stadium</td>\n",
       "      <td>0</td>\n",
       "      <td>Mumbai Indians</td>\n",
       "      <td>Rajasthan Royals</td>\n",
       "      <td>Mumbai Indians</td>\n",
       "      <td>bat</td>\n",
       "      <td>Rajasthan Royals</td>\n",
       "      <td>wickets</td>\n",
       "      <td>8.0</td>\n",
       "      <td>N</td>\n",
       "      <td>NaN</td>\n",
       "      <td>UV Gandhe</td>\n",
       "      <td>VK Sharma</td>\n",
       "    </tr>\n",
       "    <tr>\n",
       "      <th>806</th>\n",
       "      <td>1216542</td>\n",
       "      <td>Dubai</td>\n",
       "      <td>2020-10-08</td>\n",
       "      <td>JM Bairstow</td>\n",
       "      <td>Dubai International Cricket Stadium</td>\n",
       "      <td>0</td>\n",
       "      <td>Sunrisers Hyderabad</td>\n",
       "      <td>Kings XI Punjab</td>\n",
       "      <td>Sunrisers Hyderabad</td>\n",
       "      <td>bat</td>\n",
       "      <td>Sunrisers Hyderabad</td>\n",
       "      <td>runs</td>\n",
       "      <td>69.0</td>\n",
       "      <td>N</td>\n",
       "      <td>NaN</td>\n",
       "      <td>AK Chaudhary</td>\n",
       "      <td>Nitin Menon</td>\n",
       "    </tr>\n",
       "    <tr>\n",
       "      <th>807</th>\n",
       "      <td>1216543</td>\n",
       "      <td>Dubai</td>\n",
       "      <td>2020-10-14</td>\n",
       "      <td>A Nortje</td>\n",
       "      <td>Dubai International Cricket Stadium</td>\n",
       "      <td>0</td>\n",
       "      <td>Delhi Capitals</td>\n",
       "      <td>Rajasthan Royals</td>\n",
       "      <td>Delhi Capitals</td>\n",
       "      <td>bat</td>\n",
       "      <td>Delhi Capitals</td>\n",
       "      <td>runs</td>\n",
       "      <td>13.0</td>\n",
       "      <td>N</td>\n",
       "      <td>NaN</td>\n",
       "      <td>AK Chaudhary</td>\n",
       "      <td>Nitin Menon</td>\n",
       "    </tr>\n",
       "    <tr>\n",
       "      <th>808</th>\n",
       "      <td>1216544</td>\n",
       "      <td>Dubai</td>\n",
       "      <td>2020-10-25</td>\n",
       "      <td>RD Gaikwad</td>\n",
       "      <td>Dubai International Cricket Stadium</td>\n",
       "      <td>0</td>\n",
       "      <td>Royal Challengers Bangalore</td>\n",
       "      <td>Chennai Super Kings</td>\n",
       "      <td>Royal Challengers Bangalore</td>\n",
       "      <td>bat</td>\n",
       "      <td>Chennai Super Kings</td>\n",
       "      <td>wickets</td>\n",
       "      <td>8.0</td>\n",
       "      <td>N</td>\n",
       "      <td>NaN</td>\n",
       "      <td>C Shamshuddin</td>\n",
       "      <td>RK Illingworth</td>\n",
       "    </tr>\n",
       "    <tr>\n",
       "      <th>809</th>\n",
       "      <td>1216545</td>\n",
       "      <td>Abu Dhabi</td>\n",
       "      <td>2020-09-26</td>\n",
       "      <td>Shubman Gill</td>\n",
       "      <td>Sheikh Zayed Stadium</td>\n",
       "      <td>0</td>\n",
       "      <td>Sunrisers Hyderabad</td>\n",
       "      <td>Kolkata Knight Riders</td>\n",
       "      <td>Sunrisers Hyderabad</td>\n",
       "      <td>bat</td>\n",
       "      <td>Kolkata Knight Riders</td>\n",
       "      <td>wickets</td>\n",
       "      <td>7.0</td>\n",
       "      <td>N</td>\n",
       "      <td>NaN</td>\n",
       "      <td>CB Gaffaney</td>\n",
       "      <td>VK Sharma</td>\n",
       "    </tr>\n",
       "    <tr>\n",
       "      <th>810</th>\n",
       "      <td>1216546</td>\n",
       "      <td>Dubai</td>\n",
       "      <td>2020-10-20</td>\n",
       "      <td>S Dhawan</td>\n",
       "      <td>Dubai International Cricket Stadium</td>\n",
       "      <td>0</td>\n",
       "      <td>Delhi Capitals</td>\n",
       "      <td>Kings XI Punjab</td>\n",
       "      <td>Delhi Capitals</td>\n",
       "      <td>bat</td>\n",
       "      <td>Kings XI Punjab</td>\n",
       "      <td>wickets</td>\n",
       "      <td>5.0</td>\n",
       "      <td>N</td>\n",
       "      <td>NaN</td>\n",
       "      <td>C Shamshuddin</td>\n",
       "      <td>RK Illingworth</td>\n",
       "    </tr>\n",
       "    <tr>\n",
       "      <th>811</th>\n",
       "      <td>1216547</td>\n",
       "      <td>Dubai</td>\n",
       "      <td>2020-09-28</td>\n",
       "      <td>AB de Villiers</td>\n",
       "      <td>Dubai International Cricket Stadium</td>\n",
       "      <td>0</td>\n",
       "      <td>Royal Challengers Bangalore</td>\n",
       "      <td>Mumbai Indians</td>\n",
       "      <td>Mumbai Indians</td>\n",
       "      <td>field</td>\n",
       "      <td>Royal Challengers Bangalore</td>\n",
       "      <td>tie</td>\n",
       "      <td>NaN</td>\n",
       "      <td>Y</td>\n",
       "      <td>NaN</td>\n",
       "      <td>Nitin Menon</td>\n",
       "      <td>PR Reiffel</td>\n",
       "    </tr>\n",
       "    <tr>\n",
       "      <th>812</th>\n",
       "      <td>1237177</td>\n",
       "      <td>Dubai</td>\n",
       "      <td>2020-11-05</td>\n",
       "      <td>JJ Bumrah</td>\n",
       "      <td>Dubai International Cricket Stadium</td>\n",
       "      <td>0</td>\n",
       "      <td>Mumbai Indians</td>\n",
       "      <td>Delhi Capitals</td>\n",
       "      <td>Delhi Capitals</td>\n",
       "      <td>field</td>\n",
       "      <td>Mumbai Indians</td>\n",
       "      <td>runs</td>\n",
       "      <td>57.0</td>\n",
       "      <td>N</td>\n",
       "      <td>NaN</td>\n",
       "      <td>CB Gaffaney</td>\n",
       "      <td>Nitin Menon</td>\n",
       "    </tr>\n",
       "    <tr>\n",
       "      <th>813</th>\n",
       "      <td>1237178</td>\n",
       "      <td>Abu Dhabi</td>\n",
       "      <td>2020-11-06</td>\n",
       "      <td>KS Williamson</td>\n",
       "      <td>Sheikh Zayed Stadium</td>\n",
       "      <td>0</td>\n",
       "      <td>Royal Challengers Bangalore</td>\n",
       "      <td>Sunrisers Hyderabad</td>\n",
       "      <td>Sunrisers Hyderabad</td>\n",
       "      <td>field</td>\n",
       "      <td>Sunrisers Hyderabad</td>\n",
       "      <td>wickets</td>\n",
       "      <td>6.0</td>\n",
       "      <td>N</td>\n",
       "      <td>NaN</td>\n",
       "      <td>PR Reiffel</td>\n",
       "      <td>S Ravi</td>\n",
       "    </tr>\n",
       "    <tr>\n",
       "      <th>814</th>\n",
       "      <td>1237180</td>\n",
       "      <td>Abu Dhabi</td>\n",
       "      <td>2020-11-08</td>\n",
       "      <td>MP Stoinis</td>\n",
       "      <td>Sheikh Zayed Stadium</td>\n",
       "      <td>0</td>\n",
       "      <td>Delhi Capitals</td>\n",
       "      <td>Sunrisers Hyderabad</td>\n",
       "      <td>Delhi Capitals</td>\n",
       "      <td>bat</td>\n",
       "      <td>Delhi Capitals</td>\n",
       "      <td>runs</td>\n",
       "      <td>17.0</td>\n",
       "      <td>N</td>\n",
       "      <td>NaN</td>\n",
       "      <td>PR Reiffel</td>\n",
       "      <td>S Ravi</td>\n",
       "    </tr>\n",
       "    <tr>\n",
       "      <th>815</th>\n",
       "      <td>1237181</td>\n",
       "      <td>Dubai</td>\n",
       "      <td>2020-11-10</td>\n",
       "      <td>TA Boult</td>\n",
       "      <td>Dubai International Cricket Stadium</td>\n",
       "      <td>0</td>\n",
       "      <td>Delhi Capitals</td>\n",
       "      <td>Mumbai Indians</td>\n",
       "      <td>Delhi Capitals</td>\n",
       "      <td>bat</td>\n",
       "      <td>Mumbai Indians</td>\n",
       "      <td>wickets</td>\n",
       "      <td>5.0</td>\n",
       "      <td>N</td>\n",
       "      <td>NaN</td>\n",
       "      <td>CB Gaffaney</td>\n",
       "      <td>Nitin Menon</td>\n",
       "    </tr>\n",
       "  </tbody>\n",
       "</table>\n",
       "</div>"
      ],
      "text/plain": [
       "          id       city        date player_of_match  \\\n",
       "786  1216522      Dubai  2020-10-17  AB de Villiers   \n",
       "787  1216523  Abu Dhabi  2020-10-10      KD Karthik   \n",
       "788  1216524      Dubai  2020-10-27         WP Saha   \n",
       "789  1216525      Dubai  2020-10-10         V Kohli   \n",
       "790  1216526  Abu Dhabi  2020-10-16       Q de Kock   \n",
       "791  1216527    Sharjah  2020-09-27       SV Samson   \n",
       "792  1216528      Dubai  2020-10-13       RA Jadeja   \n",
       "793  1216529  Abu Dhabi  2020-10-11       Q de Kock   \n",
       "794  1216530      Dubai  2020-11-01      PJ Cummins   \n",
       "795  1216531    Sharjah  2020-10-15        KL Rahul   \n",
       "796  1216532  Abu Dhabi  2020-09-29     Rashid Khan   \n",
       "797  1216533  Abu Dhabi  2020-10-19      JC Buttler   \n",
       "798  1216534      Dubai  2020-09-21       YS Chahal   \n",
       "799  1216535      Dubai  2020-10-31    Ishan Kishan   \n",
       "800  1216536      Dubai  2020-10-29      RD Gaikwad   \n",
       "801  1216537  Abu Dhabi  2020-10-30       BA Stokes   \n",
       "802  1216538    Sharjah  2020-10-04        TA Boult   \n",
       "803  1216539      Dubai  2020-09-25         PP Shaw   \n",
       "804  1216540    Sharjah  2020-10-12  AB de Villiers   \n",
       "805  1216541  Abu Dhabi  2020-10-25       BA Stokes   \n",
       "806  1216542      Dubai  2020-10-08     JM Bairstow   \n",
       "807  1216543      Dubai  2020-10-14        A Nortje   \n",
       "808  1216544      Dubai  2020-10-25      RD Gaikwad   \n",
       "809  1216545  Abu Dhabi  2020-09-26    Shubman Gill   \n",
       "810  1216546      Dubai  2020-10-20        S Dhawan   \n",
       "811  1216547      Dubai  2020-09-28  AB de Villiers   \n",
       "812  1237177      Dubai  2020-11-05       JJ Bumrah   \n",
       "813  1237178  Abu Dhabi  2020-11-06   KS Williamson   \n",
       "814  1237180  Abu Dhabi  2020-11-08      MP Stoinis   \n",
       "815  1237181      Dubai  2020-11-10        TA Boult   \n",
       "\n",
       "                                   venue  neutral_venue  \\\n",
       "786  Dubai International Cricket Stadium              0   \n",
       "787                 Sheikh Zayed Stadium              0   \n",
       "788  Dubai International Cricket Stadium              0   \n",
       "789  Dubai International Cricket Stadium              0   \n",
       "790                 Sheikh Zayed Stadium              0   \n",
       "791              Sharjah Cricket Stadium              0   \n",
       "792  Dubai International Cricket Stadium              0   \n",
       "793                 Sheikh Zayed Stadium              0   \n",
       "794  Dubai International Cricket Stadium              0   \n",
       "795              Sharjah Cricket Stadium              0   \n",
       "796                 Sheikh Zayed Stadium              0   \n",
       "797                 Sheikh Zayed Stadium              0   \n",
       "798  Dubai International Cricket Stadium              0   \n",
       "799  Dubai International Cricket Stadium              0   \n",
       "800  Dubai International Cricket Stadium              0   \n",
       "801                 Sheikh Zayed Stadium              0   \n",
       "802              Sharjah Cricket Stadium              0   \n",
       "803  Dubai International Cricket Stadium              0   \n",
       "804              Sharjah Cricket Stadium              0   \n",
       "805                 Sheikh Zayed Stadium              0   \n",
       "806  Dubai International Cricket Stadium              0   \n",
       "807  Dubai International Cricket Stadium              0   \n",
       "808  Dubai International Cricket Stadium              0   \n",
       "809                 Sheikh Zayed Stadium              0   \n",
       "810  Dubai International Cricket Stadium              0   \n",
       "811  Dubai International Cricket Stadium              0   \n",
       "812  Dubai International Cricket Stadium              0   \n",
       "813                 Sheikh Zayed Stadium              0   \n",
       "814                 Sheikh Zayed Stadium              0   \n",
       "815  Dubai International Cricket Stadium              0   \n",
       "\n",
       "                           team1                        team2  \\\n",
       "786             Rajasthan Royals  Royal Challengers Bangalore   \n",
       "787        Kolkata Knight Riders              Kings XI Punjab   \n",
       "788          Sunrisers Hyderabad               Delhi Capitals   \n",
       "789  Royal Challengers Bangalore          Chennai Super Kings   \n",
       "790        Kolkata Knight Riders               Mumbai Indians   \n",
       "791              Kings XI Punjab             Rajasthan Royals   \n",
       "792          Chennai Super Kings          Sunrisers Hyderabad   \n",
       "793               Delhi Capitals               Mumbai Indians   \n",
       "794        Kolkata Knight Riders             Rajasthan Royals   \n",
       "795  Royal Challengers Bangalore              Kings XI Punjab   \n",
       "796          Sunrisers Hyderabad               Delhi Capitals   \n",
       "797          Chennai Super Kings             Rajasthan Royals   \n",
       "798  Royal Challengers Bangalore          Sunrisers Hyderabad   \n",
       "799               Delhi Capitals               Mumbai Indians   \n",
       "800        Kolkata Knight Riders          Chennai Super Kings   \n",
       "801              Kings XI Punjab             Rajasthan Royals   \n",
       "802               Mumbai Indians          Sunrisers Hyderabad   \n",
       "803               Delhi Capitals          Chennai Super Kings   \n",
       "804  Royal Challengers Bangalore        Kolkata Knight Riders   \n",
       "805               Mumbai Indians             Rajasthan Royals   \n",
       "806          Sunrisers Hyderabad              Kings XI Punjab   \n",
       "807               Delhi Capitals             Rajasthan Royals   \n",
       "808  Royal Challengers Bangalore          Chennai Super Kings   \n",
       "809          Sunrisers Hyderabad        Kolkata Knight Riders   \n",
       "810               Delhi Capitals              Kings XI Punjab   \n",
       "811  Royal Challengers Bangalore               Mumbai Indians   \n",
       "812               Mumbai Indians               Delhi Capitals   \n",
       "813  Royal Challengers Bangalore          Sunrisers Hyderabad   \n",
       "814               Delhi Capitals          Sunrisers Hyderabad   \n",
       "815               Delhi Capitals               Mumbai Indians   \n",
       "\n",
       "                     toss_winner toss_decision                       winner  \\\n",
       "786             Rajasthan Royals           bat  Royal Challengers Bangalore   \n",
       "787        Kolkata Knight Riders           bat        Kolkata Knight Riders   \n",
       "788               Delhi Capitals         field          Sunrisers Hyderabad   \n",
       "789  Royal Challengers Bangalore           bat  Royal Challengers Bangalore   \n",
       "790        Kolkata Knight Riders           bat               Mumbai Indians   \n",
       "791             Rajasthan Royals         field             Rajasthan Royals   \n",
       "792          Chennai Super Kings           bat          Chennai Super Kings   \n",
       "793               Delhi Capitals           bat               Mumbai Indians   \n",
       "794             Rajasthan Royals         field        Kolkata Knight Riders   \n",
       "795  Royal Challengers Bangalore           bat              Kings XI Punjab   \n",
       "796               Delhi Capitals         field          Sunrisers Hyderabad   \n",
       "797          Chennai Super Kings           bat             Rajasthan Royals   \n",
       "798          Sunrisers Hyderabad         field  Royal Challengers Bangalore   \n",
       "799               Mumbai Indians         field               Mumbai Indians   \n",
       "800          Chennai Super Kings         field          Chennai Super Kings   \n",
       "801             Rajasthan Royals         field             Rajasthan Royals   \n",
       "802               Mumbai Indians           bat               Mumbai Indians   \n",
       "803          Chennai Super Kings         field               Delhi Capitals   \n",
       "804  Royal Challengers Bangalore           bat  Royal Challengers Bangalore   \n",
       "805               Mumbai Indians           bat             Rajasthan Royals   \n",
       "806          Sunrisers Hyderabad           bat          Sunrisers Hyderabad   \n",
       "807               Delhi Capitals           bat               Delhi Capitals   \n",
       "808  Royal Challengers Bangalore           bat          Chennai Super Kings   \n",
       "809          Sunrisers Hyderabad           bat        Kolkata Knight Riders   \n",
       "810               Delhi Capitals           bat              Kings XI Punjab   \n",
       "811               Mumbai Indians         field  Royal Challengers Bangalore   \n",
       "812               Delhi Capitals         field               Mumbai Indians   \n",
       "813          Sunrisers Hyderabad         field          Sunrisers Hyderabad   \n",
       "814               Delhi Capitals           bat               Delhi Capitals   \n",
       "815               Delhi Capitals           bat               Mumbai Indians   \n",
       "\n",
       "      result  result_margin eliminator method                umpire1  \\\n",
       "786  wickets            7.0          N    NaN           AK Chaudhary   \n",
       "787     runs            2.0          N    NaN              UV Gandhe   \n",
       "788     runs           88.0          N    NaN           AK Chaudhary   \n",
       "789     runs           37.0          N    NaN           AK Chaudhary   \n",
       "790  wickets            8.0          N    NaN            CB Gaffaney   \n",
       "791  wickets            4.0          N    NaN         RK Illingworth   \n",
       "792     runs           20.0          N    NaN           AK Chaudhary   \n",
       "793  wickets            5.0          N    NaN            CB Gaffaney   \n",
       "794     runs           60.0          N    NaN            Nitin Menon   \n",
       "795  wickets            8.0          N    NaN  KN Ananthapadmanabhan   \n",
       "796     runs           15.0          N    NaN              VK Sharma   \n",
       "797  wickets            7.0          N    NaN            CB Gaffaney   \n",
       "798     runs           10.0          N    NaN            AY Dandekar   \n",
       "799  wickets            9.0          N    NaN               YC Barde   \n",
       "800  wickets            6.0          N    NaN          C Shamshuddin   \n",
       "801  wickets            7.0          N    NaN            CB Gaffaney   \n",
       "802     runs           34.0          N    NaN  KN Ananthapadmanabhan   \n",
       "803     runs           44.0          N    NaN  KN Ananthapadmanabhan   \n",
       "804     runs           82.0          N    NaN         RK Illingworth   \n",
       "805  wickets            8.0          N    NaN              UV Gandhe   \n",
       "806     runs           69.0          N    NaN           AK Chaudhary   \n",
       "807     runs           13.0          N    NaN           AK Chaudhary   \n",
       "808  wickets            8.0          N    NaN          C Shamshuddin   \n",
       "809  wickets            7.0          N    NaN            CB Gaffaney   \n",
       "810  wickets            5.0          N    NaN          C Shamshuddin   \n",
       "811      tie            NaN          Y    NaN            Nitin Menon   \n",
       "812     runs           57.0          N    NaN            CB Gaffaney   \n",
       "813  wickets            6.0          N    NaN             PR Reiffel   \n",
       "814     runs           17.0          N    NaN             PR Reiffel   \n",
       "815  wickets            5.0          N    NaN            CB Gaffaney   \n",
       "\n",
       "            umpire2  \n",
       "786     Nitin Menon  \n",
       "787     CB Gaffaney  \n",
       "788     Nitin Menon  \n",
       "789      PR Reiffel  \n",
       "790       VK Sharma  \n",
       "791    K Srinivasan  \n",
       "792      PR Reiffel  \n",
       "793          S Ravi  \n",
       "794      PR Reiffel  \n",
       "795   C Shamshuddin  \n",
       "796          S Ravi  \n",
       "797       VK Sharma  \n",
       "798     Nitin Menon  \n",
       "799      PR Reiffel  \n",
       "800  RK Illingworth  \n",
       "801          S Ravi  \n",
       "802  RK Illingworth  \n",
       "803  RK Illingworth  \n",
       "804    K Srinivasan  \n",
       "805       VK Sharma  \n",
       "806     Nitin Menon  \n",
       "807     Nitin Menon  \n",
       "808  RK Illingworth  \n",
       "809       VK Sharma  \n",
       "810  RK Illingworth  \n",
       "811      PR Reiffel  \n",
       "812     Nitin Menon  \n",
       "813          S Ravi  \n",
       "814          S Ravi  \n",
       "815     Nitin Menon  "
      ]
     },
     "execution_count": 90,
     "metadata": {},
     "output_type": "execute_result"
    }
   ],
   "source": [
    "ipl.head(10)\n",
    "ipl.tail(30)"
   ]
  },
  {
   "cell_type": "code",
   "execution_count": 91,
   "id": "28a5e53f-63aa-41c8-a1bd-586635acbe38",
   "metadata": {},
   "outputs": [
    {
     "name": "stdout",
     "output_type": "stream",
     "text": [
      "<class 'pandas.core.frame.DataFrame'>\n",
      "RangeIndex: 816 entries, 0 to 815\n",
      "Data columns (total 17 columns):\n",
      " #   Column           Non-Null Count  Dtype  \n",
      "---  ------           --------------  -----  \n",
      " 0   id               816 non-null    int64  \n",
      " 1   city             803 non-null    object \n",
      " 2   date             816 non-null    object \n",
      " 3   player_of_match  812 non-null    object \n",
      " 4   venue            816 non-null    object \n",
      " 5   neutral_venue    816 non-null    int64  \n",
      " 6   team1            816 non-null    object \n",
      " 7   team2            816 non-null    object \n",
      " 8   toss_winner      816 non-null    object \n",
      " 9   toss_decision    816 non-null    object \n",
      " 10  winner           812 non-null    object \n",
      " 11  result           812 non-null    object \n",
      " 12  result_margin    799 non-null    float64\n",
      " 13  eliminator       812 non-null    object \n",
      " 14  method           19 non-null     object \n",
      " 15  umpire1          816 non-null    object \n",
      " 16  umpire2          816 non-null    object \n",
      "dtypes: float64(1), int64(2), object(14)\n",
      "memory usage: 108.5+ KB\n"
     ]
    }
   ],
   "source": [
    "ipl.info()"
   ]
  },
  {
   "cell_type": "code",
   "execution_count": 92,
   "id": "fb8c9949-97f2-4d35-b519-b0272bfb1b7a",
   "metadata": {},
   "outputs": [
    {
     "data": {
      "text/plain": [
       "id                   0\n",
       "city                13\n",
       "date                 0\n",
       "player_of_match      4\n",
       "venue                0\n",
       "neutral_venue        0\n",
       "team1                0\n",
       "team2                0\n",
       "toss_winner          0\n",
       "toss_decision        0\n",
       "winner               4\n",
       "result               4\n",
       "result_margin       17\n",
       "eliminator           4\n",
       "method             797\n",
       "umpire1              0\n",
       "umpire2              0\n",
       "dtype: int64"
      ]
     },
     "execution_count": 92,
     "metadata": {},
     "output_type": "execute_result"
    }
   ],
   "source": [
    "ipl.isnull().sum()"
   ]
  },
  {
   "cell_type": "code",
   "execution_count": null,
   "id": "a85650e5-1073-4b80-8a9f-58d0c3eacb29",
   "metadata": {},
   "outputs": [],
   "source": []
  }
 ],
 "metadata": {
  "kernelspec": {
   "display_name": "Python 3 (ipykernel)",
   "language": "python",
   "name": "python3"
  },
  "language_info": {
   "codemirror_mode": {
    "name": "ipython",
    "version": 3
   },
   "file_extension": ".py",
   "mimetype": "text/x-python",
   "name": "python",
   "nbconvert_exporter": "python",
   "pygments_lexer": "ipython3",
   "version": "3.11.0"
  }
 },
 "nbformat": 4,
 "nbformat_minor": 5
}
