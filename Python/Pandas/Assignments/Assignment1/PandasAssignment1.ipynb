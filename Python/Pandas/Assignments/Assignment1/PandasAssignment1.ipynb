{
 "cells": [
  {
   "cell_type": "raw",
   "id": "ed3cbf95-2e59-46d6-af7a-1c403d066501",
   "metadata": {},
   "source": [
    "Q) How to join two tables using dataframe"
   ]
  },
  {
   "cell_type": "code",
   "execution_count": 1,
   "id": "d525c15d-334d-439e-80f5-f78ab5ff9c7c",
   "metadata": {},
   "outputs": [],
   "source": [
    "import pandas as pd"
   ]
  },
  {
   "cell_type": "code",
   "execution_count": 2,
   "id": "6d4fd2f5-7164-4fde-a7d1-f732e36076be",
   "metadata": {},
   "outputs": [],
   "source": [
    "student_df=pd.DataFrame({\n",
    "    'Student_id':[\"S1\",\"S2\",\"S3\"],\n",
    "    'Student_name':[\"Irene\",\"Madhav\",\"Gouri\"]\n",
    "})"
   ]
  },
  {
   "cell_type": "code",
   "execution_count": 3,
   "id": "37eea7d8-bc1f-4bff-84fe-d6c839d12475",
   "metadata": {},
   "outputs": [
    {
     "name": "stdout",
     "output_type": "stream",
     "text": [
      "  Student_id Student_name\n",
      "0         S1        Irene\n",
      "1         S2       Madhav\n",
      "2         S3        Gouri\n"
     ]
    }
   ],
   "source": [
    "print(student_df)"
   ]
  },
  {
   "cell_type": "code",
   "execution_count": 6,
   "id": "51ea874d-5b75-48c4-9cc4-9e132e1ed34c",
   "metadata": {},
   "outputs": [],
   "source": [
    "book_df=pd.DataFrame({\n",
    "    'Book_id':[\"B1\",\"B2\",\"B3\",\"B4\"],\n",
    "    'Book_name':[\"Atomic Habits\",\"The Alchemist\",\"Ignited Minds\",\"You are born to Blossom\"],\n",
    "    'Student_id':[\"S3\",\"S4\",\"S5\",\"S6\"]\n",
    "})"
   ]
  },
  {
   "cell_type": "code",
   "execution_count": 7,
   "id": "a44c00bf-ca6b-4383-a359-7fd68657e902",
   "metadata": {},
   "outputs": [
    {
     "name": "stdout",
     "output_type": "stream",
     "text": [
      "  Book_id                Book_name Student_id\n",
      "0      B1            Atomic Habits         S3\n",
      "1      B2            The Alchemist         S4\n",
      "2      B3            Ignited Minds         S5\n",
      "3      B4  You are born to Blossom         S6\n"
     ]
    }
   ],
   "source": [
    "print(book_df)"
   ]
  },
  {
   "cell_type": "code",
   "execution_count": 10,
   "id": "00dfcb22-e45a-45fc-8650-3f29c1f8bb08",
   "metadata": {},
   "outputs": [
    {
     "name": "stdout",
     "output_type": "stream",
     "text": [
      "  Student_id Student_name Book_id      Book_name\n",
      "0         S3        Gouri      B1  Atomic Habits\n"
     ]
    }
   ],
   "source": [
    "#Inner Join\n",
    "inner_join = pd.merge(student_df,book_df,how='inner',on='Student_id')\n",
    "print(inner_join)"
   ]
  },
  {
   "cell_type": "code",
   "execution_count": 11,
   "id": "f30b0476-18ad-47a3-bf48-bb521f93571d",
   "metadata": {},
   "outputs": [
    {
     "name": "stdout",
     "output_type": "stream",
     "text": [
      "  Student_id Student_name Book_id      Book_name\n",
      "0         S1        Irene     NaN            NaN\n",
      "1         S2       Madhav     NaN            NaN\n",
      "2         S3        Gouri      B1  Atomic Habits\n"
     ]
    }
   ],
   "source": [
    "#Left Join\n",
    "left_join = pd.merge(student_df,book_df,how='left',on='Student_id')\n",
    "print(left_join)"
   ]
  },
  {
   "cell_type": "code",
   "execution_count": 12,
   "id": "a73e8eb6-83bb-487c-a0d3-36228ffc9d10",
   "metadata": {},
   "outputs": [
    {
     "name": "stdout",
     "output_type": "stream",
     "text": [
      "  Student_id Student_name Book_id                Book_name\n",
      "0         S3        Gouri      B1            Atomic Habits\n",
      "1         S4          NaN      B2            The Alchemist\n",
      "2         S5          NaN      B3            Ignited Minds\n",
      "3         S6          NaN      B4  You are born to Blossom\n"
     ]
    }
   ],
   "source": [
    "#Right Join\n",
    "right_join = pd.merge(student_df,book_df,how='right',on='Student_id')\n",
    "print(right_join)"
   ]
  },
  {
   "cell_type": "code",
   "execution_count": 13,
   "id": "f1aca89d-063e-45af-aad8-22924657104e",
   "metadata": {},
   "outputs": [
    {
     "name": "stdout",
     "output_type": "stream",
     "text": [
      "  Student_id Student_name Book_id                Book_name\n",
      "0         S1        Irene     NaN                      NaN\n",
      "1         S2       Madhav     NaN                      NaN\n",
      "2         S3        Gouri      B1            Atomic Habits\n",
      "3         S4          NaN      B2            The Alchemist\n",
      "4         S5          NaN      B3            Ignited Minds\n",
      "5         S6          NaN      B4  You are born to Blossom\n"
     ]
    }
   ],
   "source": [
    "#Outer Join\n",
    "outer_join = pd.merge(student_df,book_df,how='outer',on='Student_id')\n",
    "print(outer_join)"
   ]
  },
  {
   "cell_type": "code",
   "execution_count": null,
   "id": "fe986e66-bae7-45bd-993d-68d87dc9be31",
   "metadata": {},
   "outputs": [],
   "source": []
  }
 ],
 "metadata": {
  "kernelspec": {
   "display_name": "Python 3 (ipykernel)",
   "language": "python",
   "name": "python3"
  },
  "language_info": {
   "codemirror_mode": {
    "name": "ipython",
    "version": 3
   },
   "file_extension": ".py",
   "mimetype": "text/x-python",
   "name": "python",
   "nbconvert_exporter": "python",
   "pygments_lexer": "ipython3",
   "version": "3.11.0"
  }
 },
 "nbformat": 4,
 "nbformat_minor": 5
}
