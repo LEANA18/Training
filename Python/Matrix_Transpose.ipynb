{
 "cells": [
  {
   "cell_type": "code",
   "execution_count": 11,
   "id": "3c93b361-7a47-4b62-a183-560bdd3fc384",
   "metadata": {},
   "outputs": [
    {
     "name": "stdin",
     "output_type": "stream",
     "text": [
      "Enter no of rows:  3\n",
      "Enter no of columns:  4\n",
      "Enter values: [0][0] 1\n",
      "Enter values: [0][1] 2\n",
      "Enter values: [0][2] 3\n",
      "Enter values: [0][3] 4\n",
      "Enter values: [1][0] 6\n",
      "Enter values: [1][1] 8\n",
      "Enter values: [1][2] 3\n",
      "Enter values: [1][3] 4\n",
      "Enter values: [2][0] 7\n",
      "Enter values: [2][1] 8\n",
      "Enter values: [2][2] 9\n",
      "Enter values: [2][3] 3\n"
     ]
    },
    {
     "name": "stdout",
     "output_type": "stream",
     "text": [
      "Matrix is: \n",
      "[1, 2, 3, 4]\n",
      "[6, 8, 3, 4]\n",
      "[7, 8, 9, 3]\n",
      "The transpose of matrix is: \n",
      "[1, 6, 7]\n",
      "[2, 8, 8]\n",
      "[3, 3, 9]\n",
      "[4, 4, 3]\n"
     ]
    },
    {
     "name": "stdin",
     "output_type": "stream",
     "text": [
      "Enter 1 to continue or Enter 0 to exit 0\n"
     ]
    },
    {
     "name": "stdout",
     "output_type": "stream",
     "text": [
      "Exited Successfully\n"
     ]
    }
   ],
   "source": [
    "#Create matrix and perform transform using list comprehension\n",
    "\n",
    "mode=1\n",
    "while(mode):\n",
    "    rows=int(input(\"Enter no of rows: \"))\n",
    "    cols=int(input(\"Enter no of columns: \"))\n",
    "    if(rows != 0 and cols != 0):\n",
    "        matrix = [[int(input(f\"Enter values: [{r}][{c}]\")) for c in range(cols)] for r in range(rows)]\n",
    "        print(\"Matrix is: \")\n",
    "        for m in matrix:\n",
    "            print(m)\n",
    "        result = [[matrix[col][row] for col in range(len(matrix))] for row in range(len(matrix[0]))]\n",
    "        print(\"The transpose of matrix is: \")\n",
    "        for r in result:\n",
    "            print(r)\n",
    "    else:\n",
    "        print(\"Enter non zero value for rows and columns\")\n",
    "    user_input=int(input(\"Enter 1 to continue or Enter 0 to exit\"))\n",
    "    if(user_input == 0):\n",
    "        print(\"Exited Successfully\")\n",
    "        mode=0\n",
    "    elif(user_input == 1):\n",
    "        mode=1\n",
    "    else:\n",
    "        mode=0\n",
    "        \n",
    "        "
   ]
  },
  {
   "cell_type": "code",
   "execution_count": null,
   "id": "153c9e7a-b891-4da6-b67c-9cb2d0a7c8eb",
   "metadata": {},
   "outputs": [],
   "source": []
  }
 ],
 "metadata": {
  "kernelspec": {
   "display_name": "Python 3 (ipykernel)",
   "language": "python",
   "name": "python3"
  },
  "language_info": {
   "codemirror_mode": {
    "name": "ipython",
    "version": 3
   },
   "file_extension": ".py",
   "mimetype": "text/x-python",
   "name": "python",
   "nbconvert_exporter": "python",
   "pygments_lexer": "ipython3",
   "version": "3.11.0"
  }
 },
 "nbformat": 4,
 "nbformat_minor": 5
}
