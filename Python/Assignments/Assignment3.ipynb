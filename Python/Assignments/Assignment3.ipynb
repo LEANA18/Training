{
 "cells": [
  {
   "cell_type": "code",
   "execution_count": 5,
   "id": "3c93b361-7a47-4b62-a183-560bdd3fc384",
   "metadata": {},
   "outputs": [
    {
     "name": "stdin",
     "output_type": "stream",
     "text": [
      "Enter no of rows:  3\n",
      "Enter no of columns:  4\n",
      "Enter values: [0][0] 1\n",
      "Enter values: [0][1] 2\n",
      "Enter values: [0][2] 3\n",
      "Enter values: [0][3] 4\n",
      "Enter values: [1][0] 6\n",
      "Enter values: [1][1] 8\n",
      "Enter values: [1][2] 3\n",
      "Enter values: [1][3] 4\n",
      "Enter values: [2][0] 7\n",
      "Enter values: [2][1] 8\n",
      "Enter values: [2][2] 9\n",
      "Enter values: [2][3] 3\n"
     ]
    },
    {
     "name": "stdout",
     "output_type": "stream",
     "text": [
      "Matrix is: \n",
      "[1, 2, 3, 4]\n",
      "[6, 8, 3, 4]\n",
      "[7, 8, 9, 3]\n"
     ]
    }
   ],
   "source": [
    "rows=int(input(\"Enter no of rows: \"))\n",
    "cols=int(input(\"Enter no of columns: \"))\n",
    "matrix = [[int(input(f\"Enter values: [{r}][{c}]\")) for c in range(cols)] for r in range(rows)]\n",
    "print(\"Matrix is: \")\n",
    "for m in matrix:\n",
    "    print(m)\n",
    "\n",
    "        "
   ]
  },
  {
   "cell_type": "code",
   "execution_count": 7,
   "id": "ef0d835a-f545-48d7-a741-e7a1497b66f5",
   "metadata": {},
   "outputs": [
    {
     "name": "stdout",
     "output_type": "stream",
     "text": [
      "[1, 6, 7]\n",
      "[2, 8, 8]\n",
      "[3, 3, 9]\n",
      "[4, 4, 3]\n"
     ]
    }
   ],
   "source": [
    "result = [[matrix[col][row] for col in range(len(matrix))] for row in range(len(matrix[0]))]\n",
    "for r in result:\n",
    "    print(r)\n"
   ]
  },
  {
   "cell_type": "code",
   "execution_count": null,
   "id": "153c9e7a-b891-4da6-b67c-9cb2d0a7c8eb",
   "metadata": {},
   "outputs": [],
   "source": []
  }
 ],
 "metadata": {
  "kernelspec": {
   "display_name": "Python 3 (ipykernel)",
   "language": "python",
   "name": "python3"
  },
  "language_info": {
   "codemirror_mode": {
    "name": "ipython",
    "version": 3
   },
   "file_extension": ".py",
   "mimetype": "text/x-python",
   "name": "python",
   "nbconvert_exporter": "python",
   "pygments_lexer": "ipython3",
   "version": "3.11.0"
  }
 },
 "nbformat": 4,
 "nbformat_minor": 5
}
