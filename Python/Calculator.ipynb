{
 "cells": [
  {
   "cell_type": "code",
   "execution_count": null,
   "id": "3fbde4bd-62ad-4a9f-b175-c0728fbab3d4",
   "metadata": {},
   "outputs": [
    {
     "name": "stdin",
     "output_type": "stream",
     "text": [
      "Enter 1st number:  6\n",
      "Enter 2nd number:  0\n"
     ]
    },
    {
     "name": "stdout",
     "output_type": "stream",
     "text": [
      "For addition type 1, for subtraction type 2 , for multiplication type 3, for divison type 4 \n",
      " Type 0 to exit\n"
     ]
    },
    {
     "name": "stdin",
     "output_type": "stream",
     "text": [
      "Enter your choice:  4\n"
     ]
    },
    {
     "name": "stdout",
     "output_type": "stream",
     "text": [
      "6 / 0 = Division by zero invalid\n"
     ]
    },
    {
     "name": "stdin",
     "output_type": "stream",
     "text": [
      "Enter 1st number:  f\n"
     ]
    },
    {
     "name": "stdout",
     "output_type": "stream",
     "text": [
      "Please enter valid integer input only\n"
     ]
    }
   ],
   "source": [
    "def addition(num1,num2):\n",
    "    return num1 + num2\n",
    "    \n",
    "def subtraction(num1,num2):\n",
    "    return num1-num2\n",
    "    \n",
    "def multiply(num1,num2):\n",
    "    return num1*num2\n",
    "    \n",
    "def division(num1,num2):\n",
    "\n",
    "    if(num2==0):\n",
    "        return \"Division by zero invalid\"\n",
    "    return(num1/num2)\n",
    "   \n",
    "mode=1\n",
    "while(mode):\n",
    "    try:\n",
    "        num1=int(input(\"Enter 1st number: \"))\n",
    "        num2=int(input(\"Enter 2nd number: \"))\n",
    "        print(\"For addition type 1, for subtraction type 2 , for multiplication type 3, for divison type 4 \\n Type 0 to exit\")\n",
    "        user_input= int(input(\"Enter your choice: \"))\n",
    "        if(user_input == 1):\n",
    "            result = addition(num1,num2)\n",
    "            print(num1,\"+\",num2,\"=\",result)\n",
    "        elif(user_input ==  2):\n",
    "            result = subtraction(num1,num2)\n",
    "            print(num1,\"-\",num2,\"=\",result)\n",
    "        elif(user_input == 3):\n",
    "            result = multiply(num1,num2)\n",
    "            print(num1,\"*\",num2,\"=\",result)\n",
    "        elif(user_input == 4):\n",
    "            result = division(num1,num2)\n",
    "            print(num1,\"/\",num2,\"=\",result)\n",
    "        elif(user_input == 0):\n",
    "            print(\"Thank you for your time\")\n",
    "            mode = 0\n",
    "        else:\n",
    "            print(\"Please enter valid choice\")\n",
    "    except ValueError:\n",
    "        print(\"Please enter valid integer input only\")\n",
    "\n"
   ]
  },
  {
   "cell_type": "code",
   "execution_count": null,
   "id": "84fbd66a-698f-40bd-a00b-f295f9736fac",
   "metadata": {},
   "outputs": [],
   "source": []
  },
  {
   "cell_type": "code",
   "execution_count": null,
   "id": "19159908-3629-49a5-82df-eea2ba54fb1f",
   "metadata": {},
   "outputs": [],
   "source": []
  },
  {
   "cell_type": "code",
   "execution_count": null,
   "id": "a67e17c6-ddee-4c5d-a966-2ecde87a5abb",
   "metadata": {},
   "outputs": [],
   "source": []
  },
  {
   "cell_type": "code",
   "execution_count": null,
   "id": "0d71360b-cd1a-46cb-aff2-f6a2a9ece3aa",
   "metadata": {},
   "outputs": [],
   "source": []
  },
  {
   "cell_type": "code",
   "execution_count": null,
   "id": "098d7210-c747-4753-a047-1d553f8ab075",
   "metadata": {},
   "outputs": [],
   "source": []
  },
  {
   "cell_type": "code",
   "execution_count": null,
   "id": "641fa8d2-30f0-4f7f-9d1c-4426b0c2320d",
   "metadata": {},
   "outputs": [],
   "source": []
  }
 ],
 "metadata": {
  "kernelspec": {
   "display_name": "Python 3 (ipykernel)",
   "language": "python",
   "name": "python3"
  },
  "language_info": {
   "codemirror_mode": {
    "name": "ipython",
    "version": 3
   },
   "file_extension": ".py",
   "mimetype": "text/x-python",
   "name": "python",
   "nbconvert_exporter": "python",
   "pygments_lexer": "ipython3",
   "version": "3.11.0"
  }
 },
 "nbformat": 4,
 "nbformat_minor": 5
}
