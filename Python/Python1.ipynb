{
 "cells": [
  {
   "cell_type": "code",
   "execution_count": 7,
   "id": "2e81ffa2-288e-4481-9010-56353ee8debc",
   "metadata": {},
   "outputs": [
    {
     "name": "stdout",
     "output_type": "stream",
     "text": [
      "Value of a is 4 and Value of b is 3\n",
      "Value of b is 3 and Value of b is 4\n",
      "Value of a is 4 and Value of b is 3\n"
     ]
    }
   ],
   "source": [
    "a=4;b=3\n",
    "print(\"Value of a is {} and Value of b is {}\".format(a,b))\n",
    "print(\"Value of b is {} and Value of b is {}\".format(b,a))\n",
    "print(\"Value of a is {1} and Value of b is {0}\".format(b,a))\n"
   ]
  },
  {
   "cell_type": "code",
   "execution_count": 9,
   "id": "8d6e3291-0abf-418d-9c13-441bce11d3b3",
   "metadata": {},
   "outputs": [
    {
     "name": "stdin",
     "output_type": "stream",
     "text": [
      "Enter a number:  123\n"
     ]
    },
    {
     "name": "stdout",
     "output_type": "stream",
     "text": [
      "123\n"
     ]
    }
   ],
   "source": [
    "num = input(\"Enter a number: \")\n",
    "print(num)"
   ]
  },
  {
   "cell_type": "code",
   "execution_count": 13,
   "id": "31b1f25c-6b87-4da7-be88-f2facd9c072e",
   "metadata": {},
   "outputs": [
    {
     "name": "stdin",
     "output_type": "stream",
     "text": [
      "Enter a number:  123\n"
     ]
    },
    {
     "name": "stdout",
     "output_type": "stream",
     "text": [
      "123\n"
     ]
    }
   ],
   "source": [
    "num = int(input(\"Enter a number: \"))\n",
    "print(num)"
   ]
  },
  {
   "cell_type": "code",
   "execution_count": 14,
   "id": "63698d7c-25c4-4a3d-b403-7dca866b8ba0",
   "metadata": {},
   "outputs": [
    {
     "name": "stdin",
     "output_type": "stream",
     "text": [
      "Enter 1st PIN no:  2\n",
      "Enter 2nd PIN no:  0\n",
      "Enter 3rd PIN no:  1\n",
      "Enter 4th PIN no:  0\n"
     ]
    },
    {
     "name": "stdout",
     "output_type": "stream",
     "text": [
      "('2', '0', '1', '0')\n"
     ]
    }
   ],
   "source": [
    "x = input(\"Enter 1st PIN no: \"),input(\"Enter 2nd PIN no: \"),input(\"Enter 3rd PIN no: \"),input(\"Enter 4th PIN no: \")\n",
    "print(x)"
   ]
  },
  {
   "cell_type": "code",
   "execution_count": 15,
   "id": "a7d1b743-2797-452a-a530-34949680b68a",
   "metadata": {},
   "outputs": [
    {
     "name": "stdout",
     "output_type": "stream",
     "text": [
      "True\n"
     ]
    }
   ],
   "source": [
    "b = False\n",
    "print(not b)"
   ]
  },
  {
   "cell_type": "code",
   "execution_count": 16,
   "id": "0a1fc95b-a444-40cd-8881-98e11dd200bf",
   "metadata": {},
   "outputs": [
    {
     "name": "stdout",
     "output_type": "stream",
     "text": [
      "True False\n"
     ]
    }
   ],
   "source": [
    "a=True\n",
    "b=False\n",
    "print(a,b)"
   ]
  },
  {
   "cell_type": "code",
   "execution_count": 17,
   "id": "5ec0b6fb-1cbb-4840-bf70-7d09eaf0369e",
   "metadata": {},
   "outputs": [
    {
     "name": "stdout",
     "output_type": "stream",
     "text": [
      "2215241407232\n",
      "2215241466176\n",
      "False\n"
     ]
    }
   ],
   "source": [
    "L1=[1,2,3]\n",
    "L2=[1,2,3]\n",
    "print(id(L1))\n",
    "print(id(L2))\n",
    "print(L1 is L2)"
   ]
  },
  {
   "cell_type": "code",
   "execution_count": 19,
   "id": "b4ae5004-fbf9-42fb-9540-914c779b5c82",
   "metadata": {},
   "outputs": [
    {
     "name": "stdout",
     "output_type": "stream",
     "text": [
      "True\n"
     ]
    }
   ],
   "source": [
    "L2={1:\"a\",2:\"b\"}\n",
    "print(1 in L2)"
   ]
  },
  {
   "cell_type": "code",
   "execution_count": 21,
   "id": "80275c24-6345-48da-8974-6bcdd2cb6f9d",
   "metadata": {},
   "outputs": [
    {
     "name": "stdout",
     "output_type": "stream",
     "text": [
      "10 is positive no\n"
     ]
    }
   ],
   "source": [
    "x=10\n",
    "if(x>0):\n",
    "    print(x,\"is positive no\")\n",
    "else:\n",
    "    print(x,\"is negative no\")"
   ]
  },
  {
   "cell_type": "code",
   "execution_count": 25,
   "id": "772c6a7a-65d8-45ae-b93b-c7788c7d9587",
   "metadata": {},
   "outputs": [
    {
     "name": "stdout",
     "output_type": "stream",
     "text": [
      "10 will execute\n"
     ]
    }
   ],
   "source": [
    "num=10\n",
    "if None:\n",
    "    print(num,\"is positive\")\n",
    "print(num,\"will execute\")"
   ]
  },
  {
   "cell_type": "code",
   "execution_count": 27,
   "id": "a58b95a7-d2d9-499b-bba9-835d1e75f012",
   "metadata": {},
   "outputs": [
    {
     "name": "stdout",
     "output_type": "stream",
     "text": [
      "A\n"
     ]
    }
   ],
   "source": [
    "score = 94\n",
    "if(score > 90):\n",
    "    print(\"A\")\n",
    "elif(score > 80 and score < 90):\n",
    "    print(\"B\")\n",
    "elif(score > 70 and score < 80):\n",
    "    print(\"C\")\n",
    "elif(score > 60 and score < 70):\n",
    "    print(\"D\")\n",
    "else:\n",
    "    print(\"Fail\")\n",
    "\n"
   ]
  },
  {
   "cell_type": "code",
   "execution_count": 35,
   "id": "16c0033e-3d9c-4481-a4f5-1a5eb42a994d",
   "metadata": {},
   "outputs": [
    {
     "name": "stdin",
     "output_type": "stream",
     "text": [
      "Enter 1st number:  4\n",
      "Enter 2nd number:  5\n",
      "Enter 3rd number:  7\n"
     ]
    },
    {
     "name": "stdout",
     "output_type": "stream",
     "text": [
      "7  is greater\n"
     ]
    }
   ],
   "source": [
    "a=int(input(\"Enter 1st number: \"))\n",
    "b=int(input(\"Enter 2nd number: \"))\n",
    "c=int(input(\"Enter 3rd number: \"))\n",
    "if(a>b and a>c):\n",
    "    print(a,\" is greater\")\n",
    "elif(b>a and b>c):\n",
    "    print(b,\" is greater\")\n",
    "else:\n",
    "    print(c,\" is greater\")"
   ]
  },
  {
   "cell_type": "code",
   "execution_count": null,
   "id": "0a932595-b50b-4e7d-a42e-73bb70ed4f76",
   "metadata": {},
   "outputs": [],
   "source": [
    "a=int(input(\"Enter 1st number: \"))\n",
    "b=int(input(\"Enter 2nd number: \"))\n",
    "c=int(input(\"Enter 3rd number: \"))\n",
    "if(a>b):\n",
    "    if(a>c):\n",
    "        print(a,\"is greater\")\n",
    "    else:\n",
    "        "
   ]
  },
  {
   "cell_type": "code",
   "execution_count": 36,
   "id": "e5738586-625e-487d-a581-b104e6d8e04d",
   "metadata": {},
   "outputs": [
    {
     "name": "stdout",
     "output_type": "stream",
     "text": [
      "20\n",
      "400\n",
      "12000\n",
      "480000\n",
      "24000000\n"
     ]
    }
   ],
   "source": [
    "a = [10,20,30,40,50]\n",
    "product=2\n",
    "for element in a:\n",
    "    product*=element\n",
    "    print(product)"
   ]
  },
  {
   "cell_type": "code",
   "execution_count": 38,
   "id": "643674a5-aabc-4f10-8312-2cdcae408319",
   "metadata": {},
   "outputs": [
    {
     "name": "stdout",
     "output_type": "stream",
     "text": [
      "20\n",
      "400\n",
      "12000\n",
      "480000\n",
      "24000000\n"
     ]
    }
   ],
   "source": [
    "product=2\n",
    "for element in range(10,51,10):\n",
    "    product*=element\n",
    "    print(product)"
   ]
  },
  {
   "cell_type": "code",
   "execution_count": null,
   "id": "7bf6d8a3-cc54-4402-9ef3-5c320930fa8e",
   "metadata": {},
   "outputs": [],
   "source": [
    "x=[1,2,3,4]\n",
    "f"
   ]
  },
  {
   "cell_type": "code",
   "execution_count": 41,
   "id": "11eb9fb3-1537-4919-b72a-58eea8bcdf08",
   "metadata": {},
   "outputs": [
    {
     "name": "stdout",
     "output_type": "stream",
     "text": [
      "1 is odd\n",
      "2 is even\n",
      "3 is odd\n",
      "4 is even\n",
      "5 is odd\n",
      "6 is even\n",
      "7 is odd\n",
      "8 is even\n",
      "9 is odd\n",
      "10 is even\n"
     ]
    }
   ],
   "source": [
    "for element in range(1,11,1):\n",
    "    if(element%2==0):\n",
    "        print(element,\"is even\")\n",
    "    else:\n",
    "        print(element,\"is odd\")\n"
   ]
  },
  {
   "cell_type": "code",
   "execution_count": 58,
   "id": "ab9017ae-0d1c-4602-892b-042d9499f7d3",
   "metadata": {},
   "outputs": [
    {
     "name": "stdin",
     "output_type": "stream",
     "text": [
      "Enter number:  9\n"
     ]
    },
    {
     "name": "stdout",
     "output_type": "stream",
     "text": [
      "9  is prime\n",
      "9  is not prime\n"
     ]
    }
   ],
   "source": [
    "number = int(input(\"Enter number: \"))\n",
    "if(number<2):\n",
    "    print(number,\" is not prime\")\n",
    "elif(number == 2):\n",
    "     print(number,\" is prime\")\n",
    "else:\n",
    "    for i in range(2,number):\n",
    "        if(number%i==0):\n",
    "             print(number,\" is not prime\")\n",
    "             break\n",
    "        else:\n",
    "             print(number,\" is prime\")\n",
    "    \n"
   ]
  },
  {
   "cell_type": "code",
   "execution_count": 61,
   "id": "5ad6db22-68f0-40dd-a0cc-93d0450e4958",
   "metadata": {},
   "outputs": [
    {
     "name": "stdout",
     "output_type": "stream",
     "text": [
      "My name is Leana\n"
     ]
    }
   ],
   "source": [
    "def show_name(name):\n",
    "    print(\"My name is \"+name)\n",
    "show_name(\"Leana\")"
   ]
  },
  {
   "cell_type": "code",
   "execution_count": 64,
   "id": "a13bfef3-b29c-4427-8ff9-9a7d84c10d24",
   "metadata": {},
   "outputs": [
    {
     "name": "stdout",
     "output_type": "stream",
     "text": [
      "10\n"
     ]
    }
   ],
   "source": [
    "def get_Sum(list1):\n",
    "    sum = 0\n",
    "    for num in list1:\n",
    "        sum+=num\n",
    "    return sum\n",
    "\n",
    "list2=get_Sum([1,2,3,4])\n",
    "\n",
    "\n",
    "print(list2)"
   ]
  },
  {
   "cell_type": "code",
   "execution_count": 76,
   "id": "0eb7e52a-cf90-4ea3-abcb-29e21a38199d",
   "metadata": {},
   "outputs": [
    {
     "name": "stdout",
     "output_type": "stream",
     "text": [
      "Local variable inside function:  This is local variable\n",
      "Global variable inside function:  This is global variable\n",
      "Global variable outside function:  This is global variable\n"
     ]
    }
   ],
   "source": [
    "global_variable = \"This is global variable\"\n",
    "def function_name():\n",
    "    local_variable = \"This is local variable\"\n",
    "    print(\"Local variable inside function: \",local_variable)\n",
    "    print(\"Global variable inside function: \",global_variable)\n",
    "\n",
    "\n",
    "function_name()\n",
    "#print(\"Local variable outside function: \",local_variable)\n",
    "print(\"Global variable outside function: \",global_variable)"
   ]
  },
  {
   "cell_type": "code",
   "execution_count": 74,
   "id": "1e4f148c-b245-47b2-8c30-3cd68ed80cbc",
   "metadata": {},
   "outputs": [
    {
     "name": "stdin",
     "output_type": "stream",
     "text": [
      "Enter number1:  98\n",
      "Enter number2:  56\n"
     ]
    },
    {
     "name": "stdout",
     "output_type": "stream",
     "text": [
      "HCF of 2 numbers is:  14\n"
     ]
    }
   ],
   "source": [
    "num1=int(input(\"Enter number1: \"))\n",
    "num2=int(input(\"Enter number2: \"))\n",
    "def hcf(num1,num2):\n",
    "    while(num1>num2):\n",
    "        num1 = num1 - num2\n",
    "    while(num2>num1):\n",
    "        num2 = num2 - num1\n",
    "    return num2\n",
    "result=hcf(num1,num2)\n",
    "print(\"HCF of 2 numbers is: \",result)"
   ]
  },
  {
   "cell_type": "code",
   "execution_count": 78,
   "id": "fc2b750f-096a-4c1b-b796-09abe35a585f",
   "metadata": {},
   "outputs": [
    {
     "name": "stdout",
     "output_type": "stream",
     "text": [
      "100\n"
     ]
    }
   ],
   "source": [
    "lst = -100\n",
    "print(abs(lst))"
   ]
  },
  {
   "cell_type": "code",
   "execution_count": 79,
   "id": "75125aec-999e-487f-944a-3cf0017a79ed",
   "metadata": {},
   "outputs": [
    {
     "name": "stdout",
     "output_type": "stream",
     "text": [
      "True\n"
     ]
    }
   ],
   "source": [
    "lst=[1,2,3,4,5]\n",
    "print(all(lst))"
   ]
  },
  {
   "cell_type": "code",
   "execution_count": 80,
   "id": "3fb59e44-c75f-42cb-93eb-49e10be53113",
   "metadata": {},
   "outputs": [
    {
     "name": "stdout",
     "output_type": "stream",
     "text": [
      "False\n"
     ]
    }
   ],
   "source": [
    "lst=[0,2,3]\n",
    "print(all(lst))"
   ]
  },
  {
   "cell_type": "code",
   "execution_count": 83,
   "id": "3d4e9ee9-229a-4473-b4af-7668e72324cd",
   "metadata": {},
   "outputs": [
    {
     "name": "stdout",
     "output_type": "stream",
     "text": [
      "True\n"
     ]
    }
   ],
   "source": [
    "lst1=[-1,2,3,-4]\n",
    "print(all(lst1))"
   ]
  },
  {
   "cell_type": "code",
   "execution_count": 84,
   "id": "91462406-a24e-428b-b18b-d0795fcc0549",
   "metadata": {},
   "outputs": [
    {
     "name": "stdout",
     "output_type": "stream",
     "text": [
      "True\n"
     ]
    }
   ],
   "source": [
    "lst4=[-1,-2,-3,7]\n",
    "print(all(lst4))"
   ]
  },
  {
   "cell_type": "code",
   "execution_count": 85,
   "id": "58b49a25-20c8-4ac5-bde5-bf7cd3183098",
   "metadata": {},
   "outputs": [
    {
     "name": "stdout",
     "output_type": "stream",
     "text": [
      "(0, 2, 3, 4, 6)\n"
     ]
    }
   ],
   "source": [
    "lst=[0,2,3,4,6]\n",
    "print(tuple(lst))"
   ]
  },
  {
   "cell_type": "code",
   "execution_count": 86,
   "id": "86ad1f80-a7ca-43c5-a75e-2b1eaf51313d",
   "metadata": {},
   "outputs": [
    {
     "name": "stdout",
     "output_type": "stream",
     "text": [
      "<class 'list'>\n"
     ]
    }
   ],
   "source": [
    "print(type(lst))"
   ]
  },
  {
   "cell_type": "code",
   "execution_count": 87,
   "id": "8968cb96-1873-4cbd-9158-dc689cfb22ae",
   "metadata": {},
   "outputs": [
    {
     "name": "stdout",
     "output_type": "stream",
     "text": [
      "(6, 1)\n"
     ]
    }
   ],
   "source": [
    "print(divmod(13,2))"
   ]
  },
  {
   "cell_type": "code",
   "execution_count": 88,
   "id": "2065c294-1156-4512-ab25-24fd1bd2362a",
   "metadata": {},
   "outputs": [
    {
     "name": "stdout",
     "output_type": "stream",
     "text": [
      "index 0 has value 10\n",
      "index 1 has value 20\n",
      "index 2 has value 30\n",
      "index 3 has value 40\n"
     ]
    }
   ],
   "source": [
    "lst=[10,20,30,40]\n",
    "for index,num in enumerate(lst,start=0):\n",
    "    print(\"index {0} has value {1}\".format(index,num))\n"
   ]
  },
  {
   "cell_type": "code",
   "execution_count": 89,
   "id": "caa01a79-40ab-479b-9030-8528f854eaa3",
   "metadata": {},
   "outputs": [
    {
     "name": "stdout",
     "output_type": "stream",
     "text": [
      "[1, 2, 3, 4, 5, 6, 7, 8, 9]\n"
     ]
    }
   ],
   "source": [
    "def check_positive_no(num):\n",
    "    if(num>0):\n",
    "        return num\n",
    "\n",
    "lst1_lst = range(-10,10)\n",
    "lst_positive=list(filter(check_positive_no,lst1_lst))\n",
    "print(lst_positive)"
   ]
  },
  {
   "cell_type": "code",
   "execution_count": 90,
   "id": "97e696b0-e275-4826-bb95-a52a806ce6aa",
   "metadata": {},
   "outputs": [
    {
     "name": "stdout",
     "output_type": "stream",
     "text": [
      "[1, 2, 3, 4, 5, 6, 7, 8, 9]\n"
     ]
    }
   ],
   "source": [
    "lst1_lst = range(-10,10)\n",
    "lst_positive=list(filter(lambda x:x>0,lst1_lst))\n",
    "print(lst_positive)"
   ]
  },
  {
   "cell_type": "code",
   "execution_count": 91,
   "id": "d03fedea-81fa-40fc-906b-900a682bc949",
   "metadata": {},
   "outputs": [
    {
     "name": "stdout",
     "output_type": "stream",
     "text": [
      "[-9, -7, -5, -3, -1, 1, 3, 5, 7, 9]\n"
     ]
    }
   ],
   "source": [
    "lst1_lst = range(-10,10)\n",
    "lst_odd=list(filter(lambda x:x%2!=0,lst1_lst))\n",
    "print(lst_odd)"
   ]
  },
  {
   "cell_type": "code",
   "execution_count": 92,
   "id": "51fa1969-c625-4a48-afb3-da60adcb3820",
   "metadata": {},
   "outputs": [
    {
     "name": "stdout",
     "output_type": "stream",
     "text": [
      "-9\n",
      "-7\n",
      "-5\n",
      "-3\n",
      "-1\n",
      "1\n",
      "3\n",
      "5\n",
      "7\n",
      "9\n"
     ]
    }
   ],
   "source": [
    "for i in lst_odd:\n",
    "    print(i)"
   ]
  },
  {
   "cell_type": "code",
   "execution_count": 93,
   "id": "9cd18f59-adab-4aff-9754-5a841a660e9a",
   "metadata": {},
   "outputs": [
    {
     "name": "stdout",
     "output_type": "stream",
     "text": [
      "[1, 4, 9, 16]\n",
      "[1, 8, 27, 64]\n"
     ]
    }
   ],
   "source": [
    "lst=[1,2,3,4]\n",
    "square=[]\n",
    "cube=[]\n",
    "for num in lst:\n",
    "    square.append(num**2)\n",
    "    cube.append(num**3)\n",
    "print(square)\n",
    "print(cube)"
   ]
  },
  {
   "cell_type": "code",
   "execution_count": 97,
   "id": "741c7ae9-acaa-4b6d-96d8-de90e9c572fc",
   "metadata": {},
   "outputs": [
    {
     "name": "stdout",
     "output_type": "stream",
     "text": [
      "[1, 4, 9, 16]\n"
     ]
    }
   ],
   "source": [
    "squared = list(map(lambda x:x**2,[1,2,3,4]))\n",
    "print(squared)"
   ]
  },
  {
   "cell_type": "code",
   "execution_count": 98,
   "id": "7d6d666d-a9de-4c4d-bf3b-f8d99a620407",
   "metadata": {},
   "outputs": [
    {
     "name": "stdout",
     "output_type": "stream",
     "text": [
      "24\n"
     ]
    }
   ],
   "source": [
    "from functools import reduce\n",
    "\n",
    "def multiply(x,y):\n",
    "    return x*y\n",
    "lst=[1,2,3,4]\n",
    "product = reduce(multiply,lst)\n",
    "print(product)"
   ]
  },
  {
   "cell_type": "code",
   "execution_count": 99,
   "id": "02bf4274-0dc1-4fcb-ba59-713b37a78e9a",
   "metadata": {},
   "outputs": [
    {
     "name": "stdout",
     "output_type": "stream",
     "text": [
      "24\n"
     ]
    }
   ],
   "source": [
    "from functools import reduce\n",
    "\n",
    "lst=[1,2,3,4]\n",
    "product = reduce(lambda x,y:x*y,lst)\n",
    "print(product)"
   ]
  },
  {
   "cell_type": "code",
   "execution_count": 1,
   "id": "2c632235-cce7-4fd7-826e-728f41a6acad",
   "metadata": {},
   "outputs": [
    {
     "name": "stdout",
     "output_type": "stream",
     "text": [
      "[1, 2, 3, 4, 5, 6, 7, 8, 9]\n"
     ]
    }
   ],
   "source": [
    "def check_positive_no(num):\n",
    "    if(num>0):\n",
    "        return num\n",
    "\n",
    "lst1_lst = range(-10,10)\n",
    "lst_positive=list(filter(check_positive_no,lst1_lst))\n",
    "print(lst_positive)"
   ]
  },
  {
   "cell_type": "code",
   "execution_count": null,
   "id": "b79c9335-1bc3-495b-8b45-661d65da68aa",
   "metadata": {},
   "outputs": [],
   "source": []
  }
 ],
 "metadata": {
  "kernelspec": {
   "display_name": "Python 3 (ipykernel)",
   "language": "python",
   "name": "python3"
  },
  "language_info": {
   "codemirror_mode": {
    "name": "ipython",
    "version": 3
   },
   "file_extension": ".py",
   "mimetype": "text/x-python",
   "name": "python",
   "nbconvert_exporter": "python",
   "pygments_lexer": "ipython3",
   "version": "3.11.0"
  }
 },
 "nbformat": 4,
 "nbformat_minor": 5
}
